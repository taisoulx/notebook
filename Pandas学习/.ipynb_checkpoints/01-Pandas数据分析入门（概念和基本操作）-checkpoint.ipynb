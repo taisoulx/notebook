{
 "cells": [
  {
   "cell_type": "markdown",
   "metadata": {},
   "source": [
    "# Pandas数据读取"
   ]
  },
  {
   "cell_type": "markdown",
   "metadata": {},
   "source": [
    "Pandas需要先读取表格类型的数据，然后进行分析\n",
    "\n",
    "| 数据类型 | 说明 | Pandas读取方法 |\n",
    "| :-----:| :----: | :----: |\n",
    "| csv、tsv、txt | 用逗号分隔开、tab分割的纯文本文件 | pd.read_csv |\n",
    "| excel | 微软xls或者xlsx | pd.read_excel |\n",
    "| mysql | 关系型数据表 | pd.read_sql |"
   ]
  },
  {
   "cell_type": "markdown",
   "metadata": {},
   "source": [
    "## 读取纯文本文件"
   ]
  },
  {
   "cell_type": "code",
   "execution_count": 1,
   "metadata": {},
   "outputs": [],
   "source": [
    "import pandas as pd"
   ]
  },
  {
   "cell_type": "markdown",
   "metadata": {},
   "source": [
    "### 读取csv，使用默认的标题行、逗号分割符"
   ]
  },
  {
   "cell_type": "code",
   "execution_count": 2,
   "metadata": {},
   "outputs": [],
   "source": [
    "moviePath=\"./datas/movie.csv\""
   ]
  },
  {
   "cell_type": "code",
   "execution_count": 3,
   "metadata": {},
   "outputs": [],
   "source": [
    "# 读取数据\n",
    "data = pd.read_csv(moviePath)"
   ]
  },
  {
   "cell_type": "code",
   "execution_count": 4,
   "metadata": {},
   "outputs": [
    {
     "data": {
      "text/html": [
       "<div>\n",
       "<style scoped>\n",
       "    .dataframe tbody tr th:only-of-type {\n",
       "        vertical-align: middle;\n",
       "    }\n",
       "\n",
       "    .dataframe tbody tr th {\n",
       "        vertical-align: top;\n",
       "    }\n",
       "\n",
       "    .dataframe thead th {\n",
       "        text-align: right;\n",
       "    }\n",
       "</style>\n",
       "<table border=\"1\" class=\"dataframe\">\n",
       "  <thead>\n",
       "    <tr style=\"text-align: right;\">\n",
       "      <th></th>\n",
       "      <th>userId</th>\n",
       "      <th>movieId</th>\n",
       "      <th>rating</th>\n",
       "    </tr>\n",
       "  </thead>\n",
       "  <tbody>\n",
       "    <tr>\n",
       "      <th>0</th>\n",
       "      <td>1</td>\n",
       "      <td>1</td>\n",
       "      <td>4.0</td>\n",
       "    </tr>\n",
       "    <tr>\n",
       "      <th>1</th>\n",
       "      <td>1</td>\n",
       "      <td>3</td>\n",
       "      <td>5.0</td>\n",
       "    </tr>\n",
       "    <tr>\n",
       "      <th>2</th>\n",
       "      <td>1</td>\n",
       "      <td>4</td>\n",
       "      <td>4.0</td>\n",
       "    </tr>\n",
       "    <tr>\n",
       "      <th>3</th>\n",
       "      <td>1</td>\n",
       "      <td>2</td>\n",
       "      <td>5.0</td>\n",
       "    </tr>\n",
       "    <tr>\n",
       "      <th>4</th>\n",
       "      <td>1</td>\n",
       "      <td>6</td>\n",
       "      <td>3.0</td>\n",
       "    </tr>\n",
       "  </tbody>\n",
       "</table>\n",
       "</div>"
      ],
      "text/plain": [
       "   userId  movieId  rating\n",
       "0       1        1     4.0\n",
       "1       1        3     5.0\n",
       "2       1        4     4.0\n",
       "3       1        2     5.0\n",
       "4       1        6     3.0"
      ]
     },
     "execution_count": 4,
     "metadata": {},
     "output_type": "execute_result"
    }
   ],
   "source": [
    "# 显示前5个\n",
    "data.head()"
   ]
  },
  {
   "cell_type": "code",
   "execution_count": 5,
   "metadata": {},
   "outputs": [
    {
     "data": {
      "text/plain": [
       "(15, 3)"
      ]
     },
     "execution_count": 5,
     "metadata": {},
     "output_type": "execute_result"
    }
   ],
   "source": [
    "# 查看数据的形状，返回（行数、列数）\n",
    "data.shape"
   ]
  },
  {
   "cell_type": "code",
   "execution_count": 6,
   "metadata": {},
   "outputs": [
    {
     "data": {
      "text/plain": [
       "Index(['userId', 'movieId', 'rating'], dtype='object')"
      ]
     },
     "execution_count": 6,
     "metadata": {},
     "output_type": "execute_result"
    }
   ],
   "source": [
    "# 查看列名列表\n",
    "data.columns"
   ]
  },
  {
   "cell_type": "code",
   "execution_count": 7,
   "metadata": {},
   "outputs": [
    {
     "data": {
      "text/plain": [
       "RangeIndex(start=0, stop=15, step=1)"
      ]
     },
     "execution_count": 7,
     "metadata": {},
     "output_type": "execute_result"
    }
   ],
   "source": [
    "# 查看索引列\n",
    "data.index"
   ]
  },
  {
   "cell_type": "code",
   "execution_count": 8,
   "metadata": {},
   "outputs": [
    {
     "data": {
      "text/plain": [
       "userId       int64\n",
       "movieId      int64\n",
       "rating     float64\n",
       "dtype: object"
      ]
     },
     "execution_count": 8,
     "metadata": {},
     "output_type": "execute_result"
    }
   ],
   "source": [
    "# 查看每列的数据类型\n",
    "data.dtypes"
   ]
  },
  {
   "cell_type": "markdown",
   "metadata": {},
   "source": [
    "### 读取txt,自己指定分割符、列名"
   ]
  },
  {
   "cell_type": "code",
   "execution_count": 9,
   "metadata": {},
   "outputs": [],
   "source": [
    "txtPath = \"./datas/log.txt\""
   ]
  },
  {
   "cell_type": "code",
   "execution_count": 10,
   "metadata": {},
   "outputs": [],
   "source": [
    "tdata = pd.read_csv(txtPath,sep='*',header=None,names=['data','pv','uv'])"
   ]
  },
  {
   "cell_type": "code",
   "execution_count": 11,
   "metadata": {},
   "outputs": [
    {
     "data": {
      "text/html": [
       "<div>\n",
       "<style scoped>\n",
       "    .dataframe tbody tr th:only-of-type {\n",
       "        vertical-align: middle;\n",
       "    }\n",
       "\n",
       "    .dataframe tbody tr th {\n",
       "        vertical-align: top;\n",
       "    }\n",
       "\n",
       "    .dataframe thead th {\n",
       "        text-align: right;\n",
       "    }\n",
       "</style>\n",
       "<table border=\"1\" class=\"dataframe\">\n",
       "  <thead>\n",
       "    <tr style=\"text-align: right;\">\n",
       "      <th></th>\n",
       "      <th>data</th>\n",
       "      <th>pv</th>\n",
       "      <th>uv</th>\n",
       "    </tr>\n",
       "  </thead>\n",
       "  <tbody>\n",
       "    <tr>\n",
       "      <th>0</th>\n",
       "      <td>2020-10-21</td>\n",
       "      <td>200</td>\n",
       "      <td>4331</td>\n",
       "    </tr>\n",
       "    <tr>\n",
       "      <th>1</th>\n",
       "      <td>2020-10-21</td>\n",
       "      <td>2320</td>\n",
       "      <td>3332</td>\n",
       "    </tr>\n",
       "    <tr>\n",
       "      <th>2</th>\n",
       "      <td>2020-10-21</td>\n",
       "      <td>2030</td>\n",
       "      <td>3311</td>\n",
       "    </tr>\n",
       "    <tr>\n",
       "      <th>3</th>\n",
       "      <td>2020-10-21</td>\n",
       "      <td>2200</td>\n",
       "      <td>3322</td>\n",
       "    </tr>\n",
       "    <tr>\n",
       "      <th>4</th>\n",
       "      <td>2020-10-21</td>\n",
       "      <td>1200</td>\n",
       "      <td>3111</td>\n",
       "    </tr>\n",
       "    <tr>\n",
       "      <th>5</th>\n",
       "      <td>2020-10-21</td>\n",
       "      <td>2030</td>\n",
       "      <td>323</td>\n",
       "    </tr>\n",
       "  </tbody>\n",
       "</table>\n",
       "</div>"
      ],
      "text/plain": [
       "         data    pv    uv\n",
       "0  2020-10-21   200  4331\n",
       "1  2020-10-21  2320  3332\n",
       "2  2020-10-21  2030  3311\n",
       "3  2020-10-21  2200  3322\n",
       "4  2020-10-21  1200  3111\n",
       "5  2020-10-21  2030   323"
      ]
     },
     "execution_count": 11,
     "metadata": {},
     "output_type": "execute_result"
    }
   ],
   "source": [
    "tdata"
   ]
  },
  {
   "cell_type": "markdown",
   "metadata": {},
   "source": [
    "## 读取excel文件"
   ]
  },
  {
   "cell_type": "code",
   "execution_count": 12,
   "metadata": {},
   "outputs": [],
   "source": [
    "excelPath = \"./datas/hotel.xlsx\""
   ]
  },
  {
   "cell_type": "code",
   "execution_count": 13,
   "metadata": {},
   "outputs": [],
   "source": [
    "exdata = pd.read_excel(excelPath)"
   ]
  },
  {
   "cell_type": "code",
   "execution_count": 14,
   "metadata": {},
   "outputs": [
    {
     "data": {
      "text/html": [
       "<div>\n",
       "<style scoped>\n",
       "    .dataframe tbody tr th:only-of-type {\n",
       "        vertical-align: middle;\n",
       "    }\n",
       "\n",
       "    .dataframe tbody tr th {\n",
       "        vertical-align: top;\n",
       "    }\n",
       "\n",
       "    .dataframe thead th {\n",
       "        text-align: right;\n",
       "    }\n",
       "</style>\n",
       "<table border=\"1\" class=\"dataframe\">\n",
       "  <thead>\n",
       "    <tr style=\"text-align: right;\">\n",
       "      <th></th>\n",
       "      <th>web-scraper-order</th>\n",
       "      <th>web-scraper-start-url</th>\n",
       "      <th>省份</th>\n",
       "      <th>城市</th>\n",
       "      <th>酒店名称</th>\n",
       "      <th>婚宴价格</th>\n",
       "      <th>地址</th>\n",
       "      <th>容纳桌数</th>\n",
       "      <th>酒店详情地址</th>\n",
       "      <th>酒店标签</th>\n",
       "      <th>酒店标签.1</th>\n",
       "      <th>详细地址</th>\n",
       "    </tr>\n",
       "  </thead>\n",
       "  <tbody>\n",
       "    <tr>\n",
       "      <th>0</th>\n",
       "      <td>1583656551-3414</td>\n",
       "      <td>https://sz.tuanyanwang.com/hunyan-page5</td>\n",
       "      <td>江苏</td>\n",
       "      <td>苏州</td>\n",
       "      <td>唐宫美罗海鲜舫</td>\n",
       "      <td>￥3488-5988/桌</td>\n",
       "      <td>观前街</td>\n",
       "      <td>容纳16桌</td>\n",
       "      <td>https://sz.tuanyanwang.com/shop/4246</td>\n",
       "      <td>中式婚礼</td>\n",
       "      <td>中式婚礼</td>\n",
       "      <td>观前街</td>\n",
       "    </tr>\n",
       "    <tr>\n",
       "      <th>1</th>\n",
       "      <td>1583666978-4551</td>\n",
       "      <td>https://shenzhen.tuanyanwang.com/hunyan-page7</td>\n",
       "      <td>广东</td>\n",
       "      <td>深圳</td>\n",
       "      <td>佳宁娜贵宾楼</td>\n",
       "      <td>￥2880-10888/桌</td>\n",
       "      <td>福田区 福华新村</td>\n",
       "      <td>容纳60桌</td>\n",
       "      <td>https://shenzhen.tuanyanwang.com/shop/3813</td>\n",
       "      <td>中式婚礼西式婚礼</td>\n",
       "      <td>中式婚礼西式婚礼</td>\n",
       "      <td>福华新村</td>\n",
       "    </tr>\n",
       "    <tr>\n",
       "      <th>2</th>\n",
       "      <td>1583652550-2201</td>\n",
       "      <td>https://hz.tuanyanwang.com/hunyan-page13</td>\n",
       "      <td>浙江</td>\n",
       "      <td>杭州</td>\n",
       "      <td>五洋宾馆</td>\n",
       "      <td>￥2380-3880/桌</td>\n",
       "      <td>下城区 潮鸣</td>\n",
       "      <td>容纳25桌</td>\n",
       "      <td>https://hz.tuanyanwang.com/shop/2984</td>\n",
       "      <td>中式婚礼西式婚礼</td>\n",
       "      <td>中式婚礼西式婚礼</td>\n",
       "      <td>下城区庆春路</td>\n",
       "    </tr>\n",
       "  </tbody>\n",
       "</table>\n",
       "</div>"
      ],
      "text/plain": [
       "  web-scraper-order                          web-scraper-start-url  省份  城市  \\\n",
       "0   1583656551-3414        https://sz.tuanyanwang.com/hunyan-page5  江苏  苏州   \n",
       "1   1583666978-4551  https://shenzhen.tuanyanwang.com/hunyan-page7  广东  深圳   \n",
       "2   1583652550-2201       https://hz.tuanyanwang.com/hunyan-page13  浙江  杭州   \n",
       "\n",
       "      酒店名称           婚宴价格        地址   容纳桌数  \\\n",
       "0  唐宫美罗海鲜舫   ￥3488-5988/桌       观前街  容纳16桌   \n",
       "1   佳宁娜贵宾楼  ￥2880-10888/桌  福田区 福华新村  容纳60桌   \n",
       "2     五洋宾馆   ￥2380-3880/桌    下城区 潮鸣  容纳25桌   \n",
       "\n",
       "                                       酒店详情地址      酒店标签    酒店标签.1    详细地址  \n",
       "0        https://sz.tuanyanwang.com/shop/4246      中式婚礼      中式婚礼     观前街  \n",
       "1  https://shenzhen.tuanyanwang.com/shop/3813  中式婚礼西式婚礼  中式婚礼西式婚礼    福华新村  \n",
       "2        https://hz.tuanyanwang.com/shop/2984  中式婚礼西式婚礼  中式婚礼西式婚礼  下城区庆春路  "
      ]
     },
     "execution_count": 14,
     "metadata": {},
     "output_type": "execute_result"
    }
   ],
   "source": [
    "exdata.head(3)"
   ]
  },
  {
   "cell_type": "markdown",
   "metadata": {},
   "source": [
    "## 读取Mysql数据库"
   ]
  },
  {
   "cell_type": "code",
   "execution_count": 15,
   "metadata": {},
   "outputs": [],
   "source": [
    "import pymysql\n",
    "conn = pymysql.connect(\n",
    "    host = '127.0.0.1',\n",
    "    user = 'root',\n",
    "    password = '123456',\n",
    "    database='rbac',\n",
    "    charset = 'utf8'\n",
    ")"
   ]
  },
  {
   "cell_type": "code",
   "execution_count": 16,
   "metadata": {},
   "outputs": [],
   "source": [
    "mysql_data = pd.read_sql(\"select * from role\",con=conn)"
   ]
  },
  {
   "cell_type": "code",
   "execution_count": 17,
   "metadata": {},
   "outputs": [
    {
     "data": {
      "text/html": [
       "<div>\n",
       "<style scoped>\n",
       "    .dataframe tbody tr th:only-of-type {\n",
       "        vertical-align: middle;\n",
       "    }\n",
       "\n",
       "    .dataframe tbody tr th {\n",
       "        vertical-align: top;\n",
       "    }\n",
       "\n",
       "    .dataframe thead th {\n",
       "        text-align: right;\n",
       "    }\n",
       "</style>\n",
       "<table border=\"1\" class=\"dataframe\">\n",
       "  <thead>\n",
       "    <tr style=\"text-align: right;\">\n",
       "      <th></th>\n",
       "      <th>id</th>\n",
       "      <th>roleId</th>\n",
       "      <th>describe</th>\n",
       "    </tr>\n",
       "  </thead>\n",
       "  <tbody>\n",
       "    <tr>\n",
       "      <th>0</th>\n",
       "      <td>1</td>\n",
       "      <td>admin</td>\n",
       "      <td>超级管理员</td>\n",
       "    </tr>\n",
       "    <tr>\n",
       "      <th>1</th>\n",
       "      <td>2</td>\n",
       "      <td>editor</td>\n",
       "      <td>编辑者</td>\n",
       "    </tr>\n",
       "    <tr>\n",
       "      <th>2</th>\n",
       "      <td>3</td>\n",
       "      <td>operate</td>\n",
       "      <td>操作员</td>\n",
       "    </tr>\n",
       "  </tbody>\n",
       "</table>\n",
       "</div>"
      ],
      "text/plain": [
       "   id   roleId describe\n",
       "0   1    admin    超级管理员\n",
       "1   2   editor      编辑者\n",
       "2   3  operate      操作员"
      ]
     },
     "execution_count": 17,
     "metadata": {},
     "output_type": "execute_result"
    }
   ],
   "source": [
    "mysql_data"
   ]
  },
  {
   "cell_type": "markdown",
   "metadata": {},
   "source": [
    "# Pandas数据结构（DataFrame && Series）"
   ]
  },
  {
   "cell_type": "markdown",
   "metadata": {},
   "source": [
    "## 介绍"
   ]
  },
  {
   "attachments": {
    "image.png": {
     "image/png": "[encoded data removed]"
    }
   },
   "cell_type": "markdown",
   "metadata": {},
   "source": [
    "![image.png](attachment:image.png)"
   ]
  },
  {
   "cell_type": "markdown",
   "metadata": {},
   "source": [
    "## Series\n",
    "Series是一种类似于一维数组的对象，它由一组数据（不同数据类型）以及一组与之相关的数据标签（即索引）组成"
   ]
  },
  {
   "cell_type": "markdown",
   "metadata": {},
   "source": [
    "### 仅有数据列表即可产生最简单的Series"
   ]
  },
  {
   "cell_type": "code",
   "execution_count": 18,
   "metadata": {},
   "outputs": [],
   "source": [
    "s1 = pd.Series(['a',1,2.3,5])"
   ]
  },
  {
   "cell_type": "code",
   "execution_count": 19,
   "metadata": {},
   "outputs": [
    {
     "data": {
      "text/plain": [
       "0      a\n",
       "1      1\n",
       "2    2.3\n",
       "3      5\n",
       "dtype: object"
      ]
     },
     "execution_count": 19,
     "metadata": {},
     "output_type": "execute_result"
    }
   ],
   "source": [
    "# 左侧为索引，右侧为数据\n",
    "s1"
   ]
  },
  {
   "cell_type": "code",
   "execution_count": 20,
   "metadata": {},
   "outputs": [
    {
     "data": {
      "text/plain": [
       "RangeIndex(start=0, stop=4, step=1)"
      ]
     },
     "execution_count": 20,
     "metadata": {},
     "output_type": "execute_result"
    }
   ],
   "source": [
    "# 获取索引\n",
    "s1.index"
   ]
  },
  {
   "cell_type": "code",
   "execution_count": 21,
   "metadata": {},
   "outputs": [
    {
     "data": {
      "text/plain": [
       "array(['a', 1, 2.3, 5], dtype=object)"
      ]
     },
     "execution_count": 21,
     "metadata": {},
     "output_type": "execute_result"
    }
   ],
   "source": [
    "# 获取数据\n",
    "s1.values"
   ]
  },
  {
   "cell_type": "markdown",
   "metadata": {},
   "source": [
    "### 创建一个具有标签索引的Series"
   ]
  },
  {
   "cell_type": "code",
   "execution_count": 22,
   "metadata": {},
   "outputs": [],
   "source": [
    "s2 = pd.Series(['a',1,2.3,5],index=['d','a','c','b'])"
   ]
  },
  {
   "cell_type": "code",
   "execution_count": 23,
   "metadata": {},
   "outputs": [
    {
     "data": {
      "text/plain": [
       "d      a\n",
       "a      1\n",
       "c    2.3\n",
       "b      5\n",
       "dtype: object"
      ]
     },
     "execution_count": 23,
     "metadata": {},
     "output_type": "execute_result"
    }
   ],
   "source": [
    "s2"
   ]
  },
  {
   "cell_type": "code",
   "execution_count": 24,
   "metadata": {},
   "outputs": [
    {
     "data": {
      "text/plain": [
       "Index(['d', 'a', 'c', 'b'], dtype='object')"
      ]
     },
     "execution_count": 24,
     "metadata": {},
     "output_type": "execute_result"
    }
   ],
   "source": [
    "s2.index"
   ]
  },
  {
   "cell_type": "markdown",
   "metadata": {},
   "source": [
    "### 使用python字典创建Series"
   ]
  },
  {
   "cell_type": "code",
   "execution_count": 25,
   "metadata": {},
   "outputs": [],
   "source": [
    "dicts = {'name':'taisoulx','age':18,'sex':'m'}"
   ]
  },
  {
   "cell_type": "code",
   "execution_count": 26,
   "metadata": {},
   "outputs": [],
   "source": [
    "s3 = pd.Series(dicts)"
   ]
  },
  {
   "cell_type": "code",
   "execution_count": 27,
   "metadata": {},
   "outputs": [
    {
     "data": {
      "text/plain": [
       "name    taisoulx\n",
       "age           18\n",
       "sex            m\n",
       "dtype: object"
      ]
     },
     "execution_count": 27,
     "metadata": {},
     "output_type": "execute_result"
    }
   ],
   "source": [
    "s3"
   ]
  },
  {
   "cell_type": "markdown",
   "metadata": {},
   "source": [
    "### 根据索引标签查询数据"
   ]
  },
  {
   "cell_type": "code",
   "execution_count": 28,
   "metadata": {},
   "outputs": [
    {
     "data": {
      "text/plain": [
       "d      a\n",
       "a      1\n",
       "c    2.3\n",
       "b      5\n",
       "dtype: object"
      ]
     },
     "execution_count": 28,
     "metadata": {},
     "output_type": "execute_result"
    }
   ],
   "source": [
    "s2"
   ]
  },
  {
   "cell_type": "code",
   "execution_count": 29,
   "metadata": {},
   "outputs": [
    {
     "data": {
      "text/plain": [
       "2.3"
      ]
     },
     "execution_count": 29,
     "metadata": {},
     "output_type": "execute_result"
    }
   ],
   "source": [
    "s2['c']"
   ]
  },
  {
   "cell_type": "code",
   "execution_count": 30,
   "metadata": {},
   "outputs": [
    {
     "data": {
      "text/plain": [
       "int"
      ]
     },
     "execution_count": 30,
     "metadata": {},
     "output_type": "execute_result"
    }
   ],
   "source": [
    "type(s2['a'])"
   ]
  },
  {
   "cell_type": "code",
   "execution_count": 31,
   "metadata": {},
   "outputs": [
    {
     "data": {
      "text/plain": [
       "b    5\n",
       "a    1\n",
       "dtype: object"
      ]
     },
     "execution_count": 31,
     "metadata": {},
     "output_type": "execute_result"
    }
   ],
   "source": [
    "s2[['b','a']]"
   ]
  },
  {
   "cell_type": "markdown",
   "metadata": {},
   "source": [
    "## DataFrame\n",
    "DataFrame是一个表格型的数据结构\n",
    "* 每列可以是不同的值类型（数值、字符串、布尔值等）\n",
    "* 既有行索引index也有列索引columns\n",
    "* 可以被看作由Series组成的字典"
   ]
  },
  {
   "cell_type": "markdown",
   "metadata": {},
   "source": [
    "### DataFrame创建"
   ]
  },
  {
   "cell_type": "code",
   "execution_count": 32,
   "metadata": {},
   "outputs": [],
   "source": [
    "dataF = {\n",
    "    'state':['greate','nice','normal','bad','greate'],\n",
    "    'year':[2000,2001,2002,2003,2004],\n",
    "    'pop':[1.2,1.3,2.1,3.1,4.4]\n",
    "}\n",
    "df =pd.DataFrame(dataF)"
   ]
  },
  {
   "cell_type": "code",
   "execution_count": 33,
   "metadata": {},
   "outputs": [
    {
     "data": {
      "text/html": [
       "<div>\n",
       "<style scoped>\n",
       "    .dataframe tbody tr th:only-of-type {\n",
       "        vertical-align: middle;\n",
       "    }\n",
       "\n",
       "    .dataframe tbody tr th {\n",
       "        vertical-align: top;\n",
       "    }\n",
       "\n",
       "    .dataframe thead th {\n",
       "        text-align: right;\n",
       "    }\n",
       "</style>\n",
       "<table border=\"1\" class=\"dataframe\">\n",
       "  <thead>\n",
       "    <tr style=\"text-align: right;\">\n",
       "      <th></th>\n",
       "      <th>state</th>\n",
       "      <th>year</th>\n",
       "      <th>pop</th>\n",
       "    </tr>\n",
       "  </thead>\n",
       "  <tbody>\n",
       "    <tr>\n",
       "      <th>0</th>\n",
       "      <td>greate</td>\n",
       "      <td>2000</td>\n",
       "      <td>1.2</td>\n",
       "    </tr>\n",
       "    <tr>\n",
       "      <th>1</th>\n",
       "      <td>nice</td>\n",
       "      <td>2001</td>\n",
       "      <td>1.3</td>\n",
       "    </tr>\n",
       "    <tr>\n",
       "      <th>2</th>\n",
       "      <td>normal</td>\n",
       "      <td>2002</td>\n",
       "      <td>2.1</td>\n",
       "    </tr>\n",
       "    <tr>\n",
       "      <th>3</th>\n",
       "      <td>bad</td>\n",
       "      <td>2003</td>\n",
       "      <td>3.1</td>\n",
       "    </tr>\n",
       "    <tr>\n",
       "      <th>4</th>\n",
       "      <td>greate</td>\n",
       "      <td>2004</td>\n",
       "      <td>4.4</td>\n",
       "    </tr>\n",
       "  </tbody>\n",
       "</table>\n",
       "</div>"
      ],
      "text/plain": [
       "    state  year  pop\n",
       "0  greate  2000  1.2\n",
       "1    nice  2001  1.3\n",
       "2  normal  2002  2.1\n",
       "3     bad  2003  3.1\n",
       "4  greate  2004  4.4"
      ]
     },
     "execution_count": 33,
     "metadata": {},
     "output_type": "execute_result"
    }
   ],
   "source": [
    "df"
   ]
  },
  {
   "cell_type": "code",
   "execution_count": 34,
   "metadata": {},
   "outputs": [
    {
     "data": {
      "text/plain": [
       "state     object\n",
       "year       int64\n",
       "pop      float64\n",
       "dtype: object"
      ]
     },
     "execution_count": 34,
     "metadata": {},
     "output_type": "execute_result"
    }
   ],
   "source": [
    "# 值类型\n",
    "df.dtypes"
   ]
  },
  {
   "cell_type": "code",
   "execution_count": 35,
   "metadata": {},
   "outputs": [
    {
     "data": {
      "text/plain": [
       "Index(['state', 'year', 'pop'], dtype='object')"
      ]
     },
     "execution_count": 35,
     "metadata": {},
     "output_type": "execute_result"
    }
   ],
   "source": [
    "df.columns"
   ]
  },
  {
   "cell_type": "code",
   "execution_count": 36,
   "metadata": {},
   "outputs": [
    {
     "data": {
      "text/plain": [
       "RangeIndex(start=0, stop=5, step=1)"
      ]
     },
     "execution_count": 36,
     "metadata": {},
     "output_type": "execute_result"
    }
   ],
   "source": [
    "df.index"
   ]
  },
  {
   "cell_type": "markdown",
   "metadata": {},
   "source": [
    "### DataFrame查询"
   ]
  },
  {
   "cell_type": "code",
   "execution_count": 37,
   "metadata": {},
   "outputs": [
    {
     "data": {
      "text/plain": [
       "0    2000\n",
       "1    2001\n",
       "2    2002\n",
       "3    2003\n",
       "4    2004\n",
       "Name: year, dtype: int64"
      ]
     },
     "execution_count": 37,
     "metadata": {},
     "output_type": "execute_result"
    }
   ],
   "source": [
    "# 查询一列，返回一个Series\n",
    "df['year']"
   ]
  },
  {
   "cell_type": "code",
   "execution_count": 38,
   "metadata": {},
   "outputs": [
    {
     "data": {
      "text/html": [
       "<div>\n",
       "<style scoped>\n",
       "    .dataframe tbody tr th:only-of-type {\n",
       "        vertical-align: middle;\n",
       "    }\n",
       "\n",
       "    .dataframe tbody tr th {\n",
       "        vertical-align: top;\n",
       "    }\n",
       "\n",
       "    .dataframe thead th {\n",
       "        text-align: right;\n",
       "    }\n",
       "</style>\n",
       "<table border=\"1\" class=\"dataframe\">\n",
       "  <thead>\n",
       "    <tr style=\"text-align: right;\">\n",
       "      <th></th>\n",
       "      <th>state</th>\n",
       "      <th>year</th>\n",
       "    </tr>\n",
       "  </thead>\n",
       "  <tbody>\n",
       "    <tr>\n",
       "      <th>0</th>\n",
       "      <td>greate</td>\n",
       "      <td>2000</td>\n",
       "    </tr>\n",
       "    <tr>\n",
       "      <th>1</th>\n",
       "      <td>nice</td>\n",
       "      <td>2001</td>\n",
       "    </tr>\n",
       "    <tr>\n",
       "      <th>2</th>\n",
       "      <td>normal</td>\n",
       "      <td>2002</td>\n",
       "    </tr>\n",
       "    <tr>\n",
       "      <th>3</th>\n",
       "      <td>bad</td>\n",
       "      <td>2003</td>\n",
       "    </tr>\n",
       "    <tr>\n",
       "      <th>4</th>\n",
       "      <td>greate</td>\n",
       "      <td>2004</td>\n",
       "    </tr>\n",
       "  </tbody>\n",
       "</table>\n",
       "</div>"
      ],
      "text/plain": [
       "    state  year\n",
       "0  greate  2000\n",
       "1    nice  2001\n",
       "2  normal  2002\n",
       "3     bad  2003\n",
       "4  greate  2004"
      ]
     },
     "execution_count": 38,
     "metadata": {},
     "output_type": "execute_result"
    }
   ],
   "source": [
    "# 查询大于1列，返回一个DataFrame\n",
    "df[['state','year']]"
   ]
  },
  {
   "cell_type": "code",
   "execution_count": 39,
   "metadata": {},
   "outputs": [
    {
     "data": {
      "text/plain": [
       "state    nice\n",
       "year     2001\n",
       "pop       1.3\n",
       "Name: 1, dtype: object"
      ]
     },
     "execution_count": 39,
     "metadata": {},
     "output_type": "execute_result"
    }
   ],
   "source": [
    "# 查询1行，返回一个Series\n",
    "df.loc[1]"
   ]
  },
  {
   "cell_type": "code",
   "execution_count": 40,
   "metadata": {},
   "outputs": [
    {
     "data": {
      "text/html": [
       "<div>\n",
       "<style scoped>\n",
       "    .dataframe tbody tr th:only-of-type {\n",
       "        vertical-align: middle;\n",
       "    }\n",
       "\n",
       "    .dataframe tbody tr th {\n",
       "        vertical-align: top;\n",
       "    }\n",
       "\n",
       "    .dataframe thead th {\n",
       "        text-align: right;\n",
       "    }\n",
       "</style>\n",
       "<table border=\"1\" class=\"dataframe\">\n",
       "  <thead>\n",
       "    <tr style=\"text-align: right;\">\n",
       "      <th></th>\n",
       "      <th>state</th>\n",
       "      <th>year</th>\n",
       "      <th>pop</th>\n",
       "    </tr>\n",
       "  </thead>\n",
       "  <tbody>\n",
       "    <tr>\n",
       "      <th>1</th>\n",
       "      <td>nice</td>\n",
       "      <td>2001</td>\n",
       "      <td>1.3</td>\n",
       "    </tr>\n",
       "    <tr>\n",
       "      <th>2</th>\n",
       "      <td>normal</td>\n",
       "      <td>2002</td>\n",
       "      <td>2.1</td>\n",
       "    </tr>\n",
       "    <tr>\n",
       "      <th>3</th>\n",
       "      <td>bad</td>\n",
       "      <td>2003</td>\n",
       "      <td>3.1</td>\n",
       "    </tr>\n",
       "  </tbody>\n",
       "</table>\n",
       "</div>"
      ],
      "text/plain": [
       "    state  year  pop\n",
       "1    nice  2001  1.3\n",
       "2  normal  2002  2.1\n",
       "3     bad  2003  3.1"
      ]
     },
     "execution_count": 40,
     "metadata": {},
     "output_type": "execute_result"
    }
   ],
   "source": [
    "# 查询多行，返回一个DataFrame,包含第三个元素\n",
    "df.loc[1:3]"
   ]
  },
  {
   "cell_type": "markdown",
   "metadata": {},
   "source": [
    "# Pandas数据查询\n",
    "按**数值、列表、区间、条件、函数**五种方法"
   ]
  },
  {
   "cell_type": "markdown",
   "metadata": {},
   "source": [
    "## Pandas查询数据的几种方法"
   ]
  },
  {
   "cell_type": "markdown",
   "metadata": {},
   "source": [
    "* 1.df.loc方法-->根据行、列的标签值查询\n",
    "* 2.df.iloc方法-->根据行、列的数字位置查询\n",
    "* 3.df.where方法\n",
    "* 4.df.query方法\n",
    "\n",
    "**.loc既能查询，又能覆盖写入**"
   ]
  },
  {
   "cell_type": "markdown",
   "metadata": {},
   "source": [
    "### pandas 使用df.loc查询数据的方法"
   ]
  },
  {
   "cell_type": "markdown",
   "metadata": {},
   "source": [
    "* 1.使用单个lable值查询数据\n",
    "* 2.使用值列表批量查询\n",
    "* 3.使用数值区间进行范围查询\n",
    "* 4.使用条件表达式查询\n",
    "* 5.调用函数查询\n",
    "\n",
    "**注意**\n",
    "* 以上方法，既适用于行，也适用于列\n",
    "* 注意观察降维DataFrame>Series>值"
   ]
  },
  {
   "cell_type": "markdown",
   "metadata": {},
   "source": [
    "#### 读取数据"
   ]
  },
  {
   "cell_type": "code",
   "execution_count": 41,
   "metadata": {},
   "outputs": [],
   "source": [
    "wPath = \"./datas/SURF_CHN_MUL_STATION.xlsx\""
   ]
  },
  {
   "cell_type": "code",
   "execution_count": 42,
   "metadata": {},
   "outputs": [],
   "source": [
    "wData = pd.read_excel(wPath)"
   ]
  },
  {
   "cell_type": "code",
   "execution_count": 43,
   "metadata": {},
   "outputs": [
    {
     "data": {
      "text/html": [
       "<div>\n",
       "<style scoped>\n",
       "    .dataframe tbody tr th:only-of-type {\n",
       "        vertical-align: middle;\n",
       "    }\n",
       "\n",
       "    .dataframe tbody tr th {\n",
       "        vertical-align: top;\n",
       "    }\n",
       "\n",
       "    .dataframe thead th {\n",
       "        text-align: right;\n",
       "    }\n",
       "</style>\n",
       "<table border=\"1\" class=\"dataframe\">\n",
       "  <thead>\n",
       "    <tr style=\"text-align: right;\">\n",
       "      <th></th>\n",
       "      <th>区站号</th>\n",
       "      <th>省份</th>\n",
       "      <th>站名</th>\n",
       "      <th>经度</th>\n",
       "      <th>纬度</th>\n",
       "      <th>观测场拔海高度（米）</th>\n",
       "      <th>气压传感器拔海高度(米)</th>\n",
       "      <th>开始年份</th>\n",
       "      <th>结束年份</th>\n",
       "      <th>缺测时段</th>\n",
       "      <th>标准值统计时段</th>\n",
       "    </tr>\n",
       "  </thead>\n",
       "  <tbody>\n",
       "    <tr>\n",
       "      <th>0</th>\n",
       "      <td>50136</td>\n",
       "      <td>黑龙江</td>\n",
       "      <td>漠河</td>\n",
       "      <td>122.31</td>\n",
       "      <td>52.58</td>\n",
       "      <td>433.0</td>\n",
       "      <td>434.2</td>\n",
       "      <td>198101</td>\n",
       "      <td>201012</td>\n",
       "      <td>NaN</td>\n",
       "      <td>198101-199612/199701-201012</td>\n",
       "    </tr>\n",
       "    <tr>\n",
       "      <th>1</th>\n",
       "      <td>50137</td>\n",
       "      <td>黑龙江</td>\n",
       "      <td>北极村</td>\n",
       "      <td>122.22</td>\n",
       "      <td>53.28</td>\n",
       "      <td>296.0</td>\n",
       "      <td>297.3</td>\n",
       "      <td>200201</td>\n",
       "      <td>201012</td>\n",
       "      <td>NaN</td>\n",
       "      <td>/////</td>\n",
       "    </tr>\n",
       "    <tr>\n",
       "      <th>2</th>\n",
       "      <td>50246</td>\n",
       "      <td>黑龙江</td>\n",
       "      <td>塔河</td>\n",
       "      <td>124.43</td>\n",
       "      <td>52.21</td>\n",
       "      <td>361.9</td>\n",
       "      <td>363.0</td>\n",
       "      <td>198101</td>\n",
       "      <td>201012</td>\n",
       "      <td>NaN</td>\n",
       "      <td>198101-201012</td>\n",
       "    </tr>\n",
       "    <tr>\n",
       "      <th>3</th>\n",
       "      <td>50247</td>\n",
       "      <td>黑龙江</td>\n",
       "      <td>呼中</td>\n",
       "      <td>123.34</td>\n",
       "      <td>52.02</td>\n",
       "      <td>514.5</td>\n",
       "      <td>514.9</td>\n",
       "      <td>198101</td>\n",
       "      <td>201012</td>\n",
       "      <td>NaN</td>\n",
       "      <td>198101-201012</td>\n",
       "    </tr>\n",
       "    <tr>\n",
       "      <th>4</th>\n",
       "      <td>50349</td>\n",
       "      <td>黑龙江</td>\n",
       "      <td>新林</td>\n",
       "      <td>124.24</td>\n",
       "      <td>51.40</td>\n",
       "      <td>501.5</td>\n",
       "      <td>502.2</td>\n",
       "      <td>198101</td>\n",
       "      <td>201012</td>\n",
       "      <td>NaN</td>\n",
       "      <td>198101-201012</td>\n",
       "    </tr>\n",
       "    <tr>\n",
       "      <th>5</th>\n",
       "      <td>50353</td>\n",
       "      <td>黑龙江</td>\n",
       "      <td>呼玛</td>\n",
       "      <td>126.38</td>\n",
       "      <td>51.44</td>\n",
       "      <td>177.4</td>\n",
       "      <td>178.0</td>\n",
       "      <td>198101</td>\n",
       "      <td>201012</td>\n",
       "      <td>NaN</td>\n",
       "      <td>198101-201012</td>\n",
       "    </tr>\n",
       "    <tr>\n",
       "      <th>6</th>\n",
       "      <td>50425</td>\n",
       "      <td>内蒙古</td>\n",
       "      <td>额尔古纳市</td>\n",
       "      <td>120.11</td>\n",
       "      <td>50.15</td>\n",
       "      <td>581.4</td>\n",
       "      <td>582.3</td>\n",
       "      <td>198101</td>\n",
       "      <td>201012</td>\n",
       "      <td>NaN</td>\n",
       "      <td>198101-201012</td>\n",
       "    </tr>\n",
       "    <tr>\n",
       "      <th>7</th>\n",
       "      <td>50431</td>\n",
       "      <td>内蒙古</td>\n",
       "      <td>根河市</td>\n",
       "      <td>121.31</td>\n",
       "      <td>50.47</td>\n",
       "      <td>717.0</td>\n",
       "      <td>718.2</td>\n",
       "      <td>198101</td>\n",
       "      <td>201012</td>\n",
       "      <td>NaN</td>\n",
       "      <td>198101-200412</td>\n",
       "    </tr>\n",
       "  </tbody>\n",
       "</table>\n",
       "</div>"
      ],
      "text/plain": [
       "     区站号   省份     站名      经度     纬度  观测场拔海高度（米）  气压传感器拔海高度(米)    开始年份    结束年份  \\\n",
       "0  50136  黑龙江     漠河  122.31  52.58       433.0         434.2  198101  201012   \n",
       "1  50137  黑龙江    北极村  122.22  53.28       296.0         297.3  200201  201012   \n",
       "2  50246  黑龙江     塔河  124.43  52.21       361.9         363.0  198101  201012   \n",
       "3  50247  黑龙江     呼中  123.34  52.02       514.5         514.9  198101  201012   \n",
       "4  50349  黑龙江     新林  124.24  51.40       501.5         502.2  198101  201012   \n",
       "5  50353  黑龙江     呼玛  126.38  51.44       177.4         178.0  198101  201012   \n",
       "6  50425  内蒙古  额尔古纳市  120.11  50.15       581.4         582.3  198101  201012   \n",
       "7  50431  内蒙古    根河市  121.31  50.47       717.0         718.2  198101  201012   \n",
       "\n",
       "  缺测时段                      标准值统计时段  \n",
       "0  NaN  198101-199612/199701-201012  \n",
       "1  NaN                        /////  \n",
       "2  NaN                198101-201012  \n",
       "3  NaN                198101-201012  \n",
       "4  NaN                198101-201012  \n",
       "5  NaN                198101-201012  \n",
       "6  NaN                198101-201012  \n",
       "7  NaN                198101-200412  "
      ]
     },
     "execution_count": 43,
     "metadata": {},
     "output_type": "execute_result"
    }
   ],
   "source": [
    "wData.head(8)"
   ]
  },
  {
   "cell_type": "code",
   "execution_count": 44,
   "metadata": {},
   "outputs": [
    {
     "data": {
      "text/plain": [
       "RangeIndex(start=0, stop=2160, step=1)"
      ]
     },
     "execution_count": 44,
     "metadata": {},
     "output_type": "execute_result"
    }
   ],
   "source": [
    "wData.index"
   ]
  },
  {
   "cell_type": "code",
   "execution_count": 45,
   "metadata": {},
   "outputs": [
    {
     "data": {
      "text/plain": [
       "Index(['区站号', '省份', '站名', '经度', '纬度', '观测场拔海高度（米）', '气压传感器拔海高度(米)', '开始年份',\n",
       "       '结束年份', '缺测时段', '标准值统计时段'],\n",
       "      dtype='object')"
      ]
     },
     "execution_count": 45,
     "metadata": {},
     "output_type": "execute_result"
    }
   ],
   "source": [
    "wData.columns"
   ]
  },
  {
   "cell_type": "markdown",
   "metadata": {},
   "source": [
    "#### 使用单个lable值查询数据\n",
    "行或者列，都可以只传入单个值，实现精确匹配"
   ]
  },
  {
   "cell_type": "code",
   "execution_count": 46,
   "metadata": {},
   "outputs": [
    {
     "data": {
      "text/plain": [
       "751.5"
      ]
     },
     "execution_count": 46,
     "metadata": {},
     "output_type": "execute_result"
    }
   ],
   "source": [
    "# 得到单个值\n",
    "wData.loc[500,'气压传感器拔海高度(米)']"
   ]
  },
  {
   "cell_type": "code",
   "execution_count": 47,
   "metadata": {},
   "outputs": [
    {
     "data": {
      "text/plain": [
       "站名                         尉氏\n",
       "气压传感器拔海高度(米)             68.5\n",
       "标准值统计时段         198101-201012\n",
       "Name: 1212, dtype: object"
      ]
     },
     "execution_count": 47,
     "metadata": {},
     "output_type": "execute_result"
    }
   ],
   "source": [
    "# 得到一个Series\n",
    "wData.loc[1212,['站名','气压传感器拔海高度(米)','标准值统计时段']]"
   ]
  },
  {
   "cell_type": "markdown",
   "metadata": {},
   "source": [
    "#### 使用值列表批量查询"
   ]
  },
  {
   "cell_type": "code",
   "execution_count": 48,
   "metadata": {},
   "outputs": [
    {
     "data": {
      "text/plain": [
       "5      178.0\n",
       "100    282.0\n",
       "300    910.5\n",
       "Name: 气压传感器拔海高度(米), dtype: float64"
      ]
     },
     "execution_count": 48,
     "metadata": {},
     "output_type": "execute_result"
    }
   ],
   "source": [
    "# 得到Series\n",
    "wData.loc[[5,100,300],'气压传感器拔海高度(米)']"
   ]
  },
  {
   "cell_type": "code",
   "execution_count": 49,
   "metadata": {},
   "outputs": [
    {
     "data": {
      "text/html": [
       "<div>\n",
       "<style scoped>\n",
       "    .dataframe tbody tr th:only-of-type {\n",
       "        vertical-align: middle;\n",
       "    }\n",
       "\n",
       "    .dataframe tbody tr th {\n",
       "        vertical-align: top;\n",
       "    }\n",
       "\n",
       "    .dataframe thead th {\n",
       "        text-align: right;\n",
       "    }\n",
       "</style>\n",
       "<table border=\"1\" class=\"dataframe\">\n",
       "  <thead>\n",
       "    <tr style=\"text-align: right;\">\n",
       "      <th></th>\n",
       "      <th>观测场拔海高度（米）</th>\n",
       "      <th>气压传感器拔海高度(米)</th>\n",
       "    </tr>\n",
       "  </thead>\n",
       "  <tbody>\n",
       "    <tr>\n",
       "      <th>2</th>\n",
       "      <td>361.9</td>\n",
       "      <td>363.0</td>\n",
       "    </tr>\n",
       "    <tr>\n",
       "      <th>322</th>\n",
       "      <td>1185.1</td>\n",
       "      <td>1186.1</td>\n",
       "    </tr>\n",
       "    <tr>\n",
       "      <th>1231</th>\n",
       "      <td>818.2</td>\n",
       "      <td>819.4</td>\n",
       "    </tr>\n",
       "  </tbody>\n",
       "</table>\n",
       "</div>"
      ],
      "text/plain": [
       "      观测场拔海高度（米）  气压传感器拔海高度(米)\n",
       "2          361.9         363.0\n",
       "322       1185.1        1186.1\n",
       "1231       818.2         819.4"
      ]
     },
     "execution_count": 49,
     "metadata": {},
     "output_type": "execute_result"
    }
   ],
   "source": [
    "# 得到DataFrame\n",
    "wData.loc[[2,322,1231],['观测场拔海高度（米）','气压传感器拔海高度(米)']]"
   ]
  },
  {
   "cell_type": "markdown",
   "metadata": {},
   "source": [
    "#### 使用数值区间进行范围查询\n",
    "注意：区间既包含开始，也包含结束（和python本身的特点有所区别）"
   ]
  },
  {
   "cell_type": "code",
   "execution_count": 50,
   "metadata": {},
   "outputs": [
    {
     "data": {
      "text/plain": [
       "1    297.3\n",
       "2    363.0\n",
       "3    514.9\n",
       "4    502.2\n",
       "5    178.0\n",
       "6    582.3\n",
       "Name: 气压传感器拔海高度(米), dtype: float64"
      ]
     },
     "execution_count": 50,
     "metadata": {},
     "output_type": "execute_result"
    }
   ],
   "source": [
    "# 行index按区间\n",
    "wData.loc[1:6,'气压传感器拔海高度(米)']"
   ]
  },
  {
   "cell_type": "code",
   "execution_count": 51,
   "metadata": {},
   "outputs": [
    {
     "data": {
      "text/plain": [
       "站名                  泽库\n",
       "经度              101.28\n",
       "纬度               35.02\n",
       "观测场拔海高度（米）      3662.8\n",
       "气压传感器拔海高度(米)    3663.6\n",
       "Name: 210, dtype: object"
      ]
     },
     "execution_count": 51,
     "metadata": {},
     "output_type": "execute_result"
    }
   ],
   "source": [
    "# 列index按区间\n",
    "wData.loc[210,'站名':'气压传感器拔海高度(米)']"
   ]
  },
  {
   "cell_type": "code",
   "execution_count": 52,
   "metadata": {},
   "outputs": [
    {
     "data": {
      "text/html": [
       "<div>\n",
       "<style scoped>\n",
       "    .dataframe tbody tr th:only-of-type {\n",
       "        vertical-align: middle;\n",
       "    }\n",
       "\n",
       "    .dataframe tbody tr th {\n",
       "        vertical-align: top;\n",
       "    }\n",
       "\n",
       "    .dataframe thead th {\n",
       "        text-align: right;\n",
       "    }\n",
       "</style>\n",
       "<table border=\"1\" class=\"dataframe\">\n",
       "  <thead>\n",
       "    <tr style=\"text-align: right;\">\n",
       "      <th></th>\n",
       "      <th>站名</th>\n",
       "      <th>经度</th>\n",
       "      <th>纬度</th>\n",
       "      <th>观测场拔海高度（米）</th>\n",
       "      <th>气压传感器拔海高度(米)</th>\n",
       "    </tr>\n",
       "  </thead>\n",
       "  <tbody>\n",
       "    <tr>\n",
       "      <th>200</th>\n",
       "      <td>皋兰</td>\n",
       "      <td>103.57</td>\n",
       "      <td>36.21</td>\n",
       "      <td>1668.5</td>\n",
       "      <td>1669.7</td>\n",
       "    </tr>\n",
       "    <tr>\n",
       "      <th>201</th>\n",
       "      <td>永登</td>\n",
       "      <td>103.15</td>\n",
       "      <td>36.45</td>\n",
       "      <td>2118.8</td>\n",
       "      <td>2120.0</td>\n",
       "    </tr>\n",
       "    <tr>\n",
       "      <th>202</th>\n",
       "      <td>靖远</td>\n",
       "      <td>104.41</td>\n",
       "      <td>36.34</td>\n",
       "      <td>1398.2</td>\n",
       "      <td>1399.4</td>\n",
       "    </tr>\n",
       "    <tr>\n",
       "      <th>203</th>\n",
       "      <td>白银</td>\n",
       "      <td>104.09</td>\n",
       "      <td>36.33</td>\n",
       "      <td>1738.7</td>\n",
       "      <td>1739.9</td>\n",
       "    </tr>\n",
       "    <tr>\n",
       "      <th>204</th>\n",
       "      <td>五道梁</td>\n",
       "      <td>93.05</td>\n",
       "      <td>35.13</td>\n",
       "      <td>4612.2</td>\n",
       "      <td>4613.0</td>\n",
       "    </tr>\n",
       "    <tr>\n",
       "      <th>205</th>\n",
       "      <td>沙珠玉</td>\n",
       "      <td>100.16</td>\n",
       "      <td>36.16</td>\n",
       "      <td>2872.0</td>\n",
       "      <td>2872.8</td>\n",
       "    </tr>\n",
       "    <tr>\n",
       "      <th>206</th>\n",
       "      <td>兴海</td>\n",
       "      <td>99.59</td>\n",
       "      <td>35.35</td>\n",
       "      <td>3323.2</td>\n",
       "      <td>3324.0</td>\n",
       "    </tr>\n",
       "  </tbody>\n",
       "</table>\n",
       "</div>"
      ],
      "text/plain": [
       "      站名      经度     纬度  观测场拔海高度（米）  气压传感器拔海高度(米)\n",
       "200   皋兰  103.57  36.21      1668.5        1669.7\n",
       "201   永登  103.15  36.45      2118.8        2120.0\n",
       "202   靖远  104.41  36.34      1398.2        1399.4\n",
       "203   白银  104.09  36.33      1738.7        1739.9\n",
       "204  五道梁   93.05  35.13      4612.2        4613.0\n",
       "205  沙珠玉  100.16  36.16      2872.0        2872.8\n",
       "206   兴海   99.59  35.35      3323.2        3324.0"
      ]
     },
     "execution_count": 52,
     "metadata": {},
     "output_type": "execute_result"
    }
   ],
   "source": [
    "# 行列都按区间\n",
    "wData.loc[200:206,'站名':'气压传感器拔海高度(米)']"
   ]
  },
  {
   "cell_type": "markdown",
   "metadata": {},
   "source": [
    "#### 使用表达式进行查询\n",
    "bool列表的长度得等于行数或者列数"
   ]
  },
  {
   "cell_type": "code",
   "execution_count": 53,
   "metadata": {},
   "outputs": [
    {
     "data": {
      "text/html": [
       "<div>\n",
       "<style scoped>\n",
       "    .dataframe tbody tr th:only-of-type {\n",
       "        vertical-align: middle;\n",
       "    }\n",
       "\n",
       "    .dataframe tbody tr th {\n",
       "        vertical-align: top;\n",
       "    }\n",
       "\n",
       "    .dataframe thead th {\n",
       "        text-align: right;\n",
       "    }\n",
       "</style>\n",
       "<table border=\"1\" class=\"dataframe\">\n",
       "  <thead>\n",
       "    <tr style=\"text-align: right;\">\n",
       "      <th></th>\n",
       "      <th>区站号</th>\n",
       "      <th>省份</th>\n",
       "      <th>站名</th>\n",
       "      <th>经度</th>\n",
       "      <th>纬度</th>\n",
       "      <th>观测场拔海高度（米）</th>\n",
       "      <th>气压传感器拔海高度(米)</th>\n",
       "      <th>开始年份</th>\n",
       "      <th>结束年份</th>\n",
       "      <th>缺测时段</th>\n",
       "      <th>标准值统计时段</th>\n",
       "    </tr>\n",
       "  </thead>\n",
       "  <tbody>\n",
       "    <tr>\n",
       "      <th>204</th>\n",
       "      <td>52908</td>\n",
       "      <td>青海</td>\n",
       "      <td>五道梁</td>\n",
       "      <td>93.05</td>\n",
       "      <td>35.13</td>\n",
       "      <td>4612.2</td>\n",
       "      <td>4613.0</td>\n",
       "      <td>198101</td>\n",
       "      <td>201012</td>\n",
       "      <td>NaN</td>\n",
       "      <td>198101-201012</td>\n",
       "    </tr>\n",
       "    <tr>\n",
       "      <th>879</th>\n",
       "      <td>55228</td>\n",
       "      <td>西藏</td>\n",
       "      <td>狮泉河</td>\n",
       "      <td>80.05</td>\n",
       "      <td>32.30</td>\n",
       "      <td>4278.6</td>\n",
       "      <td>4279.8</td>\n",
       "      <td>198101</td>\n",
       "      <td>201012</td>\n",
       "      <td>NaN</td>\n",
       "      <td>198101-201012</td>\n",
       "    </tr>\n",
       "    <tr>\n",
       "      <th>880</th>\n",
       "      <td>55248</td>\n",
       "      <td>西藏</td>\n",
       "      <td>改则</td>\n",
       "      <td>84.25</td>\n",
       "      <td>32.09</td>\n",
       "      <td>4414.9</td>\n",
       "      <td>4416.1</td>\n",
       "      <td>198101</td>\n",
       "      <td>201012</td>\n",
       "      <td>NaN</td>\n",
       "      <td>198101-201012</td>\n",
       "    </tr>\n",
       "    <tr>\n",
       "      <th>881</th>\n",
       "      <td>55299</td>\n",
       "      <td>西藏</td>\n",
       "      <td>那曲</td>\n",
       "      <td>92.04</td>\n",
       "      <td>31.29</td>\n",
       "      <td>4507.0</td>\n",
       "      <td>4508.2</td>\n",
       "      <td>198101</td>\n",
       "      <td>201012</td>\n",
       "      <td>NaN</td>\n",
       "      <td>198101-201012</td>\n",
       "    </tr>\n",
       "    <tr>\n",
       "      <th>883</th>\n",
       "      <td>55493</td>\n",
       "      <td>西藏</td>\n",
       "      <td>当雄</td>\n",
       "      <td>91.06</td>\n",
       "      <td>30.29</td>\n",
       "      <td>4200.0</td>\n",
       "      <td>4201.2</td>\n",
       "      <td>198101</td>\n",
       "      <td>201012</td>\n",
       "      <td>NaN</td>\n",
       "      <td>198101-201012</td>\n",
       "    </tr>\n",
       "    <tr>\n",
       "      <th>890</th>\n",
       "      <td>55664</td>\n",
       "      <td>西藏</td>\n",
       "      <td>定日</td>\n",
       "      <td>87.05</td>\n",
       "      <td>28.38</td>\n",
       "      <td>4300.0</td>\n",
       "      <td>4301.2</td>\n",
       "      <td>198101</td>\n",
       "      <td>201012</td>\n",
       "      <td>NaN</td>\n",
       "      <td>198101-201012</td>\n",
       "    </tr>\n",
       "    <tr>\n",
       "      <th>891</th>\n",
       "      <td>55680</td>\n",
       "      <td>西藏</td>\n",
       "      <td>江孜</td>\n",
       "      <td>89.36</td>\n",
       "      <td>28.55</td>\n",
       "      <td>4040.0</td>\n",
       "      <td>4041.2</td>\n",
       "      <td>198101</td>\n",
       "      <td>201012</td>\n",
       "      <td>NaN</td>\n",
       "      <td>198101-201012</td>\n",
       "    </tr>\n",
       "    <tr>\n",
       "      <th>892</th>\n",
       "      <td>56004</td>\n",
       "      <td>青海</td>\n",
       "      <td>沱沱河</td>\n",
       "      <td>92.26</td>\n",
       "      <td>34.13</td>\n",
       "      <td>4533.1</td>\n",
       "      <td>4533.9</td>\n",
       "      <td>198101</td>\n",
       "      <td>201012</td>\n",
       "      <td>NaN</td>\n",
       "      <td>198101-201012</td>\n",
       "    </tr>\n",
       "    <tr>\n",
       "      <th>893</th>\n",
       "      <td>56016</td>\n",
       "      <td>青海</td>\n",
       "      <td>治多</td>\n",
       "      <td>95.37</td>\n",
       "      <td>33.51</td>\n",
       "      <td>4179.1</td>\n",
       "      <td>4179.9</td>\n",
       "      <td>198101</td>\n",
       "      <td>201012</td>\n",
       "      <td>NaN</td>\n",
       "      <td>198101-201012</td>\n",
       "    </tr>\n",
       "    <tr>\n",
       "      <th>894</th>\n",
       "      <td>56018</td>\n",
       "      <td>青海</td>\n",
       "      <td>杂多</td>\n",
       "      <td>95.17</td>\n",
       "      <td>32.53</td>\n",
       "      <td>4066.4</td>\n",
       "      <td>4067.2</td>\n",
       "      <td>198101</td>\n",
       "      <td>201012</td>\n",
       "      <td>NaN</td>\n",
       "      <td>198101-201012</td>\n",
       "    </tr>\n",
       "    <tr>\n",
       "      <th>895</th>\n",
       "      <td>56021</td>\n",
       "      <td>青海</td>\n",
       "      <td>曲麻莱</td>\n",
       "      <td>95.48</td>\n",
       "      <td>34.07</td>\n",
       "      <td>4175.0</td>\n",
       "      <td>4175.8</td>\n",
       "      <td>198101</td>\n",
       "      <td>201012</td>\n",
       "      <td>NaN</td>\n",
       "      <td>198101-201012</td>\n",
       "    </tr>\n",
       "    <tr>\n",
       "      <th>897</th>\n",
       "      <td>56033</td>\n",
       "      <td>青海</td>\n",
       "      <td>玛多</td>\n",
       "      <td>98.13</td>\n",
       "      <td>34.55</td>\n",
       "      <td>4272.3</td>\n",
       "      <td>4273.1</td>\n",
       "      <td>198101</td>\n",
       "      <td>201012</td>\n",
       "      <td>NaN</td>\n",
       "      <td>198101-201012</td>\n",
       "    </tr>\n",
       "    <tr>\n",
       "      <th>898</th>\n",
       "      <td>56034</td>\n",
       "      <td>青海</td>\n",
       "      <td>清水河</td>\n",
       "      <td>97.08</td>\n",
       "      <td>33.48</td>\n",
       "      <td>4415.4</td>\n",
       "      <td>4416.2</td>\n",
       "      <td>198101</td>\n",
       "      <td>201012</td>\n",
       "      <td>NaN</td>\n",
       "      <td>198101-201012</td>\n",
       "    </tr>\n",
       "    <tr>\n",
       "      <th>899</th>\n",
       "      <td>56038</td>\n",
       "      <td>四川</td>\n",
       "      <td>石渠</td>\n",
       "      <td>98.06</td>\n",
       "      <td>32.59</td>\n",
       "      <td>4200.0</td>\n",
       "      <td>4201.0</td>\n",
       "      <td>198101</td>\n",
       "      <td>201012</td>\n",
       "      <td>NaN</td>\n",
       "      <td>198101-201012</td>\n",
       "    </tr>\n",
       "    <tr>\n",
       "      <th>901</th>\n",
       "      <td>56045</td>\n",
       "      <td>青海</td>\n",
       "      <td>甘德</td>\n",
       "      <td>99.54</td>\n",
       "      <td>33.58</td>\n",
       "      <td>4050.0</td>\n",
       "      <td>4050.8</td>\n",
       "      <td>198101</td>\n",
       "      <td>201012</td>\n",
       "      <td>NaN</td>\n",
       "      <td>198101-201012</td>\n",
       "    </tr>\n",
       "  </tbody>\n",
       "</table>\n",
       "</div>"
      ],
      "text/plain": [
       "       区站号  省份   站名     经度     纬度  观测场拔海高度（米）  气压传感器拔海高度(米)    开始年份    结束年份  \\\n",
       "204  52908  青海  五道梁  93.05  35.13      4612.2        4613.0  198101  201012   \n",
       "879  55228  西藏  狮泉河  80.05  32.30      4278.6        4279.8  198101  201012   \n",
       "880  55248  西藏   改则  84.25  32.09      4414.9        4416.1  198101  201012   \n",
       "881  55299  西藏   那曲  92.04  31.29      4507.0        4508.2  198101  201012   \n",
       "883  55493  西藏   当雄  91.06  30.29      4200.0        4201.2  198101  201012   \n",
       "890  55664  西藏   定日  87.05  28.38      4300.0        4301.2  198101  201012   \n",
       "891  55680  西藏   江孜  89.36  28.55      4040.0        4041.2  198101  201012   \n",
       "892  56004  青海  沱沱河  92.26  34.13      4533.1        4533.9  198101  201012   \n",
       "893  56016  青海   治多  95.37  33.51      4179.1        4179.9  198101  201012   \n",
       "894  56018  青海   杂多  95.17  32.53      4066.4        4067.2  198101  201012   \n",
       "895  56021  青海  曲麻莱  95.48  34.07      4175.0        4175.8  198101  201012   \n",
       "897  56033  青海   玛多  98.13  34.55      4272.3        4273.1  198101  201012   \n",
       "898  56034  青海  清水河  97.08  33.48      4415.4        4416.2  198101  201012   \n",
       "899  56038  四川   石渠  98.06  32.59      4200.0        4201.0  198101  201012   \n",
       "901  56045  青海   甘德  99.54  33.58      4050.0        4050.8  198101  201012   \n",
       "\n",
       "    缺测时段        标准值统计时段  \n",
       "204  NaN  198101-201012  \n",
       "879  NaN  198101-201012  \n",
       "880  NaN  198101-201012  \n",
       "881  NaN  198101-201012  \n",
       "883  NaN  198101-201012  \n",
       "890  NaN  198101-201012  \n",
       "891  NaN  198101-201012  \n",
       "892  NaN  198101-201012  \n",
       "893  NaN  198101-201012  \n",
       "894  NaN  198101-201012  \n",
       "895  NaN  198101-201012  \n",
       "897  NaN  198101-201012  \n",
       "898  NaN  198101-201012  \n",
       "899  NaN  198101-201012  \n",
       "901  NaN  198101-201012  "
      ]
     },
     "execution_count": 53,
     "metadata": {},
     "output_type": "execute_result"
    }
   ],
   "source": [
    "# 观测场拔海高度大于4000的数据\n",
    "wData.loc[wData['观测场拔海高度（米）']>4000,:] "
   ]
  },
  {
   "cell_type": "markdown",
   "metadata": {},
   "source": [
    "* 复杂查询，组合条件用&符号合并,每个判断条件都得带括号"
   ]
  },
  {
   "cell_type": "code",
   "execution_count": 54,
   "metadata": {},
   "outputs": [
    {
     "data": {
      "text/html": [
       "<div>\n",
       "<style scoped>\n",
       "    .dataframe tbody tr th:only-of-type {\n",
       "        vertical-align: middle;\n",
       "    }\n",
       "\n",
       "    .dataframe tbody tr th {\n",
       "        vertical-align: top;\n",
       "    }\n",
       "\n",
       "    .dataframe thead th {\n",
       "        text-align: right;\n",
       "    }\n",
       "</style>\n",
       "<table border=\"1\" class=\"dataframe\">\n",
       "  <thead>\n",
       "    <tr style=\"text-align: right;\">\n",
       "      <th></th>\n",
       "      <th>区站号</th>\n",
       "      <th>省份</th>\n",
       "      <th>站名</th>\n",
       "      <th>经度</th>\n",
       "      <th>纬度</th>\n",
       "      <th>观测场拔海高度（米）</th>\n",
       "      <th>气压传感器拔海高度(米)</th>\n",
       "      <th>开始年份</th>\n",
       "      <th>结束年份</th>\n",
       "      <th>缺测时段</th>\n",
       "      <th>标准值统计时段</th>\n",
       "    </tr>\n",
       "  </thead>\n",
       "  <tbody>\n",
       "    <tr>\n",
       "      <th>890</th>\n",
       "      <td>55664</td>\n",
       "      <td>西藏</td>\n",
       "      <td>定日</td>\n",
       "      <td>87.05</td>\n",
       "      <td>28.38</td>\n",
       "      <td>4300.0</td>\n",
       "      <td>4301.2</td>\n",
       "      <td>198101</td>\n",
       "      <td>201012</td>\n",
       "      <td>NaN</td>\n",
       "      <td>198101-201012</td>\n",
       "    </tr>\n",
       "    <tr>\n",
       "      <th>891</th>\n",
       "      <td>55680</td>\n",
       "      <td>西藏</td>\n",
       "      <td>江孜</td>\n",
       "      <td>89.36</td>\n",
       "      <td>28.55</td>\n",
       "      <td>4040.0</td>\n",
       "      <td>4041.2</td>\n",
       "      <td>198101</td>\n",
       "      <td>201012</td>\n",
       "      <td>NaN</td>\n",
       "      <td>198101-201012</td>\n",
       "    </tr>\n",
       "  </tbody>\n",
       "</table>\n",
       "</div>"
      ],
      "text/plain": [
       "       区站号  省份  站名     经度     纬度  观测场拔海高度（米）  气压传感器拔海高度(米)    开始年份    结束年份  \\\n",
       "890  55664  西藏  定日  87.05  28.38      4300.0        4301.2  198101  201012   \n",
       "891  55680  西藏  江孜  89.36  28.55      4040.0        4041.2  198101  201012   \n",
       "\n",
       "    缺测时段        标准值统计时段  \n",
       "890  NaN  198101-201012  \n",
       "891  NaN  198101-201012  "
      ]
     },
     "execution_count": 54,
     "metadata": {},
     "output_type": "execute_result"
    }
   ],
   "source": [
    "wData.loc[(wData['纬度']<30) & (wData['观测场拔海高度（米）']>4000),:]"
   ]
  },
  {
   "cell_type": "markdown",
   "metadata": {},
   "source": [
    "#### 调用函数查询"
   ]
  },
  {
   "cell_type": "code",
   "execution_count": 55,
   "metadata": {},
   "outputs": [
    {
     "data": {
      "text/html": [
       "<div>\n",
       "<style scoped>\n",
       "    .dataframe tbody tr th:only-of-type {\n",
       "        vertical-align: middle;\n",
       "    }\n",
       "\n",
       "    .dataframe tbody tr th {\n",
       "        vertical-align: top;\n",
       "    }\n",
       "\n",
       "    .dataframe thead th {\n",
       "        text-align: right;\n",
       "    }\n",
       "</style>\n",
       "<table border=\"1\" class=\"dataframe\">\n",
       "  <thead>\n",
       "    <tr style=\"text-align: right;\">\n",
       "      <th></th>\n",
       "      <th>区站号</th>\n",
       "      <th>省份</th>\n",
       "      <th>站名</th>\n",
       "      <th>经度</th>\n",
       "      <th>纬度</th>\n",
       "      <th>观测场拔海高度（米）</th>\n",
       "      <th>气压传感器拔海高度(米)</th>\n",
       "      <th>开始年份</th>\n",
       "      <th>结束年份</th>\n",
       "      <th>缺测时段</th>\n",
       "      <th>标准值统计时段</th>\n",
       "    </tr>\n",
       "  </thead>\n",
       "  <tbody>\n",
       "    <tr>\n",
       "      <th>204</th>\n",
       "      <td>52908</td>\n",
       "      <td>青海</td>\n",
       "      <td>五道梁</td>\n",
       "      <td>93.05</td>\n",
       "      <td>35.13</td>\n",
       "      <td>4612.2</td>\n",
       "      <td>4613.0</td>\n",
       "      <td>198101</td>\n",
       "      <td>201012</td>\n",
       "      <td>NaN</td>\n",
       "      <td>198101-201012</td>\n",
       "    </tr>\n",
       "    <tr>\n",
       "      <th>879</th>\n",
       "      <td>55228</td>\n",
       "      <td>西藏</td>\n",
       "      <td>狮泉河</td>\n",
       "      <td>80.05</td>\n",
       "      <td>32.30</td>\n",
       "      <td>4278.6</td>\n",
       "      <td>4279.8</td>\n",
       "      <td>198101</td>\n",
       "      <td>201012</td>\n",
       "      <td>NaN</td>\n",
       "      <td>198101-201012</td>\n",
       "    </tr>\n",
       "    <tr>\n",
       "      <th>880</th>\n",
       "      <td>55248</td>\n",
       "      <td>西藏</td>\n",
       "      <td>改则</td>\n",
       "      <td>84.25</td>\n",
       "      <td>32.09</td>\n",
       "      <td>4414.9</td>\n",
       "      <td>4416.1</td>\n",
       "      <td>198101</td>\n",
       "      <td>201012</td>\n",
       "      <td>NaN</td>\n",
       "      <td>198101-201012</td>\n",
       "    </tr>\n",
       "    <tr>\n",
       "      <th>881</th>\n",
       "      <td>55299</td>\n",
       "      <td>西藏</td>\n",
       "      <td>那曲</td>\n",
       "      <td>92.04</td>\n",
       "      <td>31.29</td>\n",
       "      <td>4507.0</td>\n",
       "      <td>4508.2</td>\n",
       "      <td>198101</td>\n",
       "      <td>201012</td>\n",
       "      <td>NaN</td>\n",
       "      <td>198101-201012</td>\n",
       "    </tr>\n",
       "    <tr>\n",
       "      <th>883</th>\n",
       "      <td>55493</td>\n",
       "      <td>西藏</td>\n",
       "      <td>当雄</td>\n",
       "      <td>91.06</td>\n",
       "      <td>30.29</td>\n",
       "      <td>4200.0</td>\n",
       "      <td>4201.2</td>\n",
       "      <td>198101</td>\n",
       "      <td>201012</td>\n",
       "      <td>NaN</td>\n",
       "      <td>198101-201012</td>\n",
       "    </tr>\n",
       "    <tr>\n",
       "      <th>892</th>\n",
       "      <td>56004</td>\n",
       "      <td>青海</td>\n",
       "      <td>沱沱河</td>\n",
       "      <td>92.26</td>\n",
       "      <td>34.13</td>\n",
       "      <td>4533.1</td>\n",
       "      <td>4533.9</td>\n",
       "      <td>198101</td>\n",
       "      <td>201012</td>\n",
       "      <td>NaN</td>\n",
       "      <td>198101-201012</td>\n",
       "    </tr>\n",
       "    <tr>\n",
       "      <th>893</th>\n",
       "      <td>56016</td>\n",
       "      <td>青海</td>\n",
       "      <td>治多</td>\n",
       "      <td>95.37</td>\n",
       "      <td>33.51</td>\n",
       "      <td>4179.1</td>\n",
       "      <td>4179.9</td>\n",
       "      <td>198101</td>\n",
       "      <td>201012</td>\n",
       "      <td>NaN</td>\n",
       "      <td>198101-201012</td>\n",
       "    </tr>\n",
       "    <tr>\n",
       "      <th>894</th>\n",
       "      <td>56018</td>\n",
       "      <td>青海</td>\n",
       "      <td>杂多</td>\n",
       "      <td>95.17</td>\n",
       "      <td>32.53</td>\n",
       "      <td>4066.4</td>\n",
       "      <td>4067.2</td>\n",
       "      <td>198101</td>\n",
       "      <td>201012</td>\n",
       "      <td>NaN</td>\n",
       "      <td>198101-201012</td>\n",
       "    </tr>\n",
       "    <tr>\n",
       "      <th>895</th>\n",
       "      <td>56021</td>\n",
       "      <td>青海</td>\n",
       "      <td>曲麻莱</td>\n",
       "      <td>95.48</td>\n",
       "      <td>34.07</td>\n",
       "      <td>4175.0</td>\n",
       "      <td>4175.8</td>\n",
       "      <td>198101</td>\n",
       "      <td>201012</td>\n",
       "      <td>NaN</td>\n",
       "      <td>198101-201012</td>\n",
       "    </tr>\n",
       "    <tr>\n",
       "      <th>897</th>\n",
       "      <td>56033</td>\n",
       "      <td>青海</td>\n",
       "      <td>玛多</td>\n",
       "      <td>98.13</td>\n",
       "      <td>34.55</td>\n",
       "      <td>4272.3</td>\n",
       "      <td>4273.1</td>\n",
       "      <td>198101</td>\n",
       "      <td>201012</td>\n",
       "      <td>NaN</td>\n",
       "      <td>198101-201012</td>\n",
       "    </tr>\n",
       "    <tr>\n",
       "      <th>898</th>\n",
       "      <td>56034</td>\n",
       "      <td>青海</td>\n",
       "      <td>清水河</td>\n",
       "      <td>97.08</td>\n",
       "      <td>33.48</td>\n",
       "      <td>4415.4</td>\n",
       "      <td>4416.2</td>\n",
       "      <td>198101</td>\n",
       "      <td>201012</td>\n",
       "      <td>NaN</td>\n",
       "      <td>198101-201012</td>\n",
       "    </tr>\n",
       "    <tr>\n",
       "      <th>899</th>\n",
       "      <td>56038</td>\n",
       "      <td>四川</td>\n",
       "      <td>石渠</td>\n",
       "      <td>98.06</td>\n",
       "      <td>32.59</td>\n",
       "      <td>4200.0</td>\n",
       "      <td>4201.0</td>\n",
       "      <td>198101</td>\n",
       "      <td>201012</td>\n",
       "      <td>NaN</td>\n",
       "      <td>198101-201012</td>\n",
       "    </tr>\n",
       "    <tr>\n",
       "      <th>901</th>\n",
       "      <td>56045</td>\n",
       "      <td>青海</td>\n",
       "      <td>甘德</td>\n",
       "      <td>99.54</td>\n",
       "      <td>33.58</td>\n",
       "      <td>4050.0</td>\n",
       "      <td>4050.8</td>\n",
       "      <td>198101</td>\n",
       "      <td>201012</td>\n",
       "      <td>NaN</td>\n",
       "      <td>198101-201012</td>\n",
       "    </tr>\n",
       "  </tbody>\n",
       "</table>\n",
       "</div>"
      ],
      "text/plain": [
       "       区站号  省份   站名     经度     纬度  观测场拔海高度（米）  气压传感器拔海高度(米)    开始年份    结束年份  \\\n",
       "204  52908  青海  五道梁  93.05  35.13      4612.2        4613.0  198101  201012   \n",
       "879  55228  西藏  狮泉河  80.05  32.30      4278.6        4279.8  198101  201012   \n",
       "880  55248  西藏   改则  84.25  32.09      4414.9        4416.1  198101  201012   \n",
       "881  55299  西藏   那曲  92.04  31.29      4507.0        4508.2  198101  201012   \n",
       "883  55493  西藏   当雄  91.06  30.29      4200.0        4201.2  198101  201012   \n",
       "892  56004  青海  沱沱河  92.26  34.13      4533.1        4533.9  198101  201012   \n",
       "893  56016  青海   治多  95.37  33.51      4179.1        4179.9  198101  201012   \n",
       "894  56018  青海   杂多  95.17  32.53      4066.4        4067.2  198101  201012   \n",
       "895  56021  青海  曲麻莱  95.48  34.07      4175.0        4175.8  198101  201012   \n",
       "897  56033  青海   玛多  98.13  34.55      4272.3        4273.1  198101  201012   \n",
       "898  56034  青海  清水河  97.08  33.48      4415.4        4416.2  198101  201012   \n",
       "899  56038  四川   石渠  98.06  32.59      4200.0        4201.0  198101  201012   \n",
       "901  56045  青海   甘德  99.54  33.58      4050.0        4050.8  198101  201012   \n",
       "\n",
       "    缺测时段        标准值统计时段  \n",
       "204  NaN  198101-201012  \n",
       "879  NaN  198101-201012  \n",
       "880  NaN  198101-201012  \n",
       "881  NaN  198101-201012  \n",
       "883  NaN  198101-201012  \n",
       "892  NaN  198101-201012  \n",
       "893  NaN  198101-201012  \n",
       "894  NaN  198101-201012  \n",
       "895  NaN  198101-201012  \n",
       "897  NaN  198101-201012  \n",
       "898  NaN  198101-201012  \n",
       "899  NaN  198101-201012  \n",
       "901  NaN  198101-201012  "
      ]
     },
     "execution_count": 55,
     "metadata": {},
     "output_type": "execute_result"
    }
   ],
   "source": [
    "# 直接写lambda表达式\n",
    "wData.loc[lambda wData: (wData['纬度']>30) & (wData['观测场拔海高度（米）']>4000),:]"
   ]
  },
  {
   "cell_type": "code",
   "execution_count": 56,
   "metadata": {},
   "outputs": [
    {
     "data": {
      "text/html": [
       "<div>\n",
       "<style scoped>\n",
       "    .dataframe tbody tr th:only-of-type {\n",
       "        vertical-align: middle;\n",
       "    }\n",
       "\n",
       "    .dataframe tbody tr th {\n",
       "        vertical-align: top;\n",
       "    }\n",
       "\n",
       "    .dataframe thead th {\n",
       "        text-align: right;\n",
       "    }\n",
       "</style>\n",
       "<table border=\"1\" class=\"dataframe\">\n",
       "  <thead>\n",
       "    <tr style=\"text-align: right;\">\n",
       "      <th></th>\n",
       "      <th>区站号</th>\n",
       "      <th>省份</th>\n",
       "      <th>站名</th>\n",
       "      <th>经度</th>\n",
       "      <th>纬度</th>\n",
       "      <th>观测场拔海高度（米）</th>\n",
       "      <th>气压传感器拔海高度(米)</th>\n",
       "      <th>开始年份</th>\n",
       "      <th>结束年份</th>\n",
       "      <th>缺测时段</th>\n",
       "      <th>标准值统计时段</th>\n",
       "    </tr>\n",
       "  </thead>\n",
       "  <tbody>\n",
       "    <tr>\n",
       "      <th>897</th>\n",
       "      <td>56033</td>\n",
       "      <td>青海</td>\n",
       "      <td>玛多</td>\n",
       "      <td>98.13</td>\n",
       "      <td>34.55</td>\n",
       "      <td>4272.3</td>\n",
       "      <td>4273.1</td>\n",
       "      <td>198101</td>\n",
       "      <td>201012</td>\n",
       "      <td>NaN</td>\n",
       "      <td>198101-201012</td>\n",
       "    </tr>\n",
       "  </tbody>\n",
       "</table>\n",
       "</div>"
      ],
      "text/plain": [
       "       区站号  省份  站名     经度     纬度  观测场拔海高度（米）  气压传感器拔海高度(米)    开始年份    结束年份  \\\n",
       "897  56033  青海  玛多  98.13  34.55      4272.3        4273.1  198101  201012   \n",
       "\n",
       "    缺测时段        标准值统计时段  \n",
       "897  NaN  198101-201012  "
      ]
     },
     "execution_count": 56,
     "metadata": {},
     "output_type": "execute_result"
    }
   ],
   "source": [
    "# 编写自己的函数\n",
    "def query_data(data):\n",
    "    return data['区站号'] == 56033\n",
    "wData.loc[query_data,:]"
   ]
  },
  {
   "cell_type": "markdown",
   "metadata": {},
   "source": [
    "# pandas 数据新增\n",
    "直接赋值、apply、assign、分条件赋值"
   ]
  },
  {
   "cell_type": "markdown",
   "metadata": {},
   "source": [
    "## Pandas怎样新增数据列\n",
    "在进行数据分析时，经常需要按照一定的条件创建新的数据列，然后进行近一步分析\n",
    "* 1、直接赋值\n",
    "* 2、df.apply方法\n",
    "* 3、df.assign方法\n",
    "* 4、按条件选择分组分别赋值"
   ]
  },
  {
   "cell_type": "markdown",
   "metadata": {},
   "source": [
    "### 读取数据"
   ]
  },
  {
   "cell_type": "code",
   "execution_count": 57,
   "metadata": {},
   "outputs": [],
   "source": [
    "tPath = './datas/tianqi.csv'\n",
    "tData = pd.read_csv(tPath)"
   ]
  },
  {
   "cell_type": "code",
   "execution_count": 58,
   "metadata": {},
   "outputs": [
    {
     "data": {
      "text/html": [
       "<div>\n",
       "<style scoped>\n",
       "    .dataframe tbody tr th:only-of-type {\n",
       "        vertical-align: middle;\n",
       "    }\n",
       "\n",
       "    .dataframe tbody tr th {\n",
       "        vertical-align: top;\n",
       "    }\n",
       "\n",
       "    .dataframe thead th {\n",
       "        text-align: right;\n",
       "    }\n",
       "</style>\n",
       "<table border=\"1\" class=\"dataframe\">\n",
       "  <thead>\n",
       "    <tr style=\"text-align: right;\">\n",
       "      <th></th>\n",
       "      <th>ymd</th>\n",
       "      <th>bWendu</th>\n",
       "      <th>yWendu</th>\n",
       "      <th>tianqi</th>\n",
       "      <th>fengxiang</th>\n",
       "      <th>fengli</th>\n",
       "      <th>aqi</th>\n",
       "      <th>aqiInfo</th>\n",
       "      <th>aqiLevel</th>\n",
       "    </tr>\n",
       "  </thead>\n",
       "  <tbody>\n",
       "    <tr>\n",
       "      <th>0</th>\n",
       "      <td>2018-01-01</td>\n",
       "      <td>3℃</td>\n",
       "      <td>-6℃</td>\n",
       "      <td>晴~多云</td>\n",
       "      <td>东北风</td>\n",
       "      <td>1-2级</td>\n",
       "      <td>59</td>\n",
       "      <td>良</td>\n",
       "      <td>2</td>\n",
       "    </tr>\n",
       "    <tr>\n",
       "      <th>1</th>\n",
       "      <td>2018-01-02</td>\n",
       "      <td>2℃</td>\n",
       "      <td>-5℃</td>\n",
       "      <td>阴~多云</td>\n",
       "      <td>东北风</td>\n",
       "      <td>1-2级</td>\n",
       "      <td>49</td>\n",
       "      <td>优</td>\n",
       "      <td>1</td>\n",
       "    </tr>\n",
       "    <tr>\n",
       "      <th>2</th>\n",
       "      <td>2018-01-03</td>\n",
       "      <td>2℃</td>\n",
       "      <td>-5℃</td>\n",
       "      <td>多云</td>\n",
       "      <td>北风</td>\n",
       "      <td>1-2级</td>\n",
       "      <td>28</td>\n",
       "      <td>优</td>\n",
       "      <td>1</td>\n",
       "    </tr>\n",
       "    <tr>\n",
       "      <th>3</th>\n",
       "      <td>2018-01-04</td>\n",
       "      <td>0℃</td>\n",
       "      <td>-8℃</td>\n",
       "      <td>阴</td>\n",
       "      <td>东北风</td>\n",
       "      <td>1-2级</td>\n",
       "      <td>28</td>\n",
       "      <td>优</td>\n",
       "      <td>1</td>\n",
       "    </tr>\n",
       "    <tr>\n",
       "      <th>4</th>\n",
       "      <td>2018-01-05</td>\n",
       "      <td>3℃</td>\n",
       "      <td>-6℃</td>\n",
       "      <td>多云~晴</td>\n",
       "      <td>西北风</td>\n",
       "      <td>1-2级</td>\n",
       "      <td>50</td>\n",
       "      <td>优</td>\n",
       "      <td>1</td>\n",
       "    </tr>\n",
       "  </tbody>\n",
       "</table>\n",
       "</div>"
      ],
      "text/plain": [
       "          ymd bWendu yWendu tianqi fengxiang fengli  aqi aqiInfo  aqiLevel\n",
       "0  2018-01-01     3℃    -6℃   晴~多云       东北风   1-2级   59       良         2\n",
       "1  2018-01-02     2℃    -5℃   阴~多云       东北风   1-2级   49       优         1\n",
       "2  2018-01-03     2℃    -5℃     多云        北风   1-2级   28       优         1\n",
       "3  2018-01-04     0℃    -8℃      阴       东北风   1-2级   28       优         1\n",
       "4  2018-01-05     3℃    -6℃   多云~晴       西北风   1-2级   50       优         1"
      ]
     },
     "execution_count": 58,
     "metadata": {},
     "output_type": "execute_result"
    }
   ],
   "source": [
    "tData.head()"
   ]
  },
  {
   "cell_type": "markdown",
   "metadata": {},
   "source": [
    "### 直接赋值的方法\n",
    "实例：清理温度列，变成数字类型"
   ]
  },
  {
   "cell_type": "code",
   "execution_count": 59,
   "metadata": {},
   "outputs": [],
   "source": [
    "tData.loc[:,'bWendu'] = tData['bWendu'].str.replace('℃','').astype('int32')"
   ]
  },
  {
   "cell_type": "code",
   "execution_count": 60,
   "metadata": {},
   "outputs": [
    {
     "data": {
      "text/html": [
       "<div>\n",
       "<style scoped>\n",
       "    .dataframe tbody tr th:only-of-type {\n",
       "        vertical-align: middle;\n",
       "    }\n",
       "\n",
       "    .dataframe tbody tr th {\n",
       "        vertical-align: top;\n",
       "    }\n",
       "\n",
       "    .dataframe thead th {\n",
       "        text-align: right;\n",
       "    }\n",
       "</style>\n",
       "<table border=\"1\" class=\"dataframe\">\n",
       "  <thead>\n",
       "    <tr style=\"text-align: right;\">\n",
       "      <th></th>\n",
       "      <th>ymd</th>\n",
       "      <th>bWendu</th>\n",
       "      <th>yWendu</th>\n",
       "      <th>tianqi</th>\n",
       "      <th>fengxiang</th>\n",
       "      <th>fengli</th>\n",
       "      <th>aqi</th>\n",
       "      <th>aqiInfo</th>\n",
       "      <th>aqiLevel</th>\n",
       "    </tr>\n",
       "  </thead>\n",
       "  <tbody>\n",
       "    <tr>\n",
       "      <th>0</th>\n",
       "      <td>2018-01-01</td>\n",
       "      <td>3</td>\n",
       "      <td>-6℃</td>\n",
       "      <td>晴~多云</td>\n",
       "      <td>东北风</td>\n",
       "      <td>1-2级</td>\n",
       "      <td>59</td>\n",
       "      <td>良</td>\n",
       "      <td>2</td>\n",
       "    </tr>\n",
       "    <tr>\n",
       "      <th>1</th>\n",
       "      <td>2018-01-02</td>\n",
       "      <td>2</td>\n",
       "      <td>-5℃</td>\n",
       "      <td>阴~多云</td>\n",
       "      <td>东北风</td>\n",
       "      <td>1-2级</td>\n",
       "      <td>49</td>\n",
       "      <td>优</td>\n",
       "      <td>1</td>\n",
       "    </tr>\n",
       "    <tr>\n",
       "      <th>2</th>\n",
       "      <td>2018-01-03</td>\n",
       "      <td>2</td>\n",
       "      <td>-5℃</td>\n",
       "      <td>多云</td>\n",
       "      <td>北风</td>\n",
       "      <td>1-2级</td>\n",
       "      <td>28</td>\n",
       "      <td>优</td>\n",
       "      <td>1</td>\n",
       "    </tr>\n",
       "    <tr>\n",
       "      <th>3</th>\n",
       "      <td>2018-01-04</td>\n",
       "      <td>0</td>\n",
       "      <td>-8℃</td>\n",
       "      <td>阴</td>\n",
       "      <td>东北风</td>\n",
       "      <td>1-2级</td>\n",
       "      <td>28</td>\n",
       "      <td>优</td>\n",
       "      <td>1</td>\n",
       "    </tr>\n",
       "    <tr>\n",
       "      <th>4</th>\n",
       "      <td>2018-01-05</td>\n",
       "      <td>3</td>\n",
       "      <td>-6℃</td>\n",
       "      <td>多云~晴</td>\n",
       "      <td>西北风</td>\n",
       "      <td>1-2级</td>\n",
       "      <td>50</td>\n",
       "      <td>优</td>\n",
       "      <td>1</td>\n",
       "    </tr>\n",
       "  </tbody>\n",
       "</table>\n",
       "</div>"
      ],
      "text/plain": [
       "          ymd  bWendu yWendu tianqi fengxiang fengli  aqi aqiInfo  aqiLevel\n",
       "0  2018-01-01       3    -6℃   晴~多云       东北风   1-2级   59       良         2\n",
       "1  2018-01-02       2    -5℃   阴~多云       东北风   1-2级   49       优         1\n",
       "2  2018-01-03       2    -5℃     多云        北风   1-2级   28       优         1\n",
       "3  2018-01-04       0    -8℃      阴       东北风   1-2级   28       优         1\n",
       "4  2018-01-05       3    -6℃   多云~晴       西北风   1-2级   50       优         1"
      ]
     },
     "execution_count": 60,
     "metadata": {},
     "output_type": "execute_result"
    }
   ],
   "source": [
    "tData.head()"
   ]
  },
  {
   "cell_type": "code",
   "execution_count": 61,
   "metadata": {},
   "outputs": [],
   "source": [
    "tData.loc[:,'yWendu'] = tData['yWendu'].str.replace('℃','').astype('int32')"
   ]
  },
  {
   "cell_type": "code",
   "execution_count": 63,
   "metadata": {},
   "outputs": [
    {
     "data": {
      "text/html": [
       "<div>\n",
       "<style scoped>\n",
       "    .dataframe tbody tr th:only-of-type {\n",
       "        vertical-align: middle;\n",
       "    }\n",
       "\n",
       "    .dataframe tbody tr th {\n",
       "        vertical-align: top;\n",
       "    }\n",
       "\n",
       "    .dataframe thead th {\n",
       "        text-align: right;\n",
       "    }\n",
       "</style>\n",
       "<table border=\"1\" class=\"dataframe\">\n",
       "  <thead>\n",
       "    <tr style=\"text-align: right;\">\n",
       "      <th></th>\n",
       "      <th>ymd</th>\n",
       "      <th>bWendu</th>\n",
       "      <th>yWendu</th>\n",
       "      <th>tianqi</th>\n",
       "      <th>fengxiang</th>\n",
       "      <th>fengli</th>\n",
       "      <th>aqi</th>\n",
       "      <th>aqiInfo</th>\n",
       "      <th>aqiLevel</th>\n",
       "    </tr>\n",
       "  </thead>\n",
       "  <tbody>\n",
       "    <tr>\n",
       "      <th>0</th>\n",
       "      <td>2018-01-01</td>\n",
       "      <td>3</td>\n",
       "      <td>-6</td>\n",
       "      <td>晴~多云</td>\n",
       "      <td>东北风</td>\n",
       "      <td>1-2级</td>\n",
       "      <td>59</td>\n",
       "      <td>良</td>\n",
       "      <td>2</td>\n",
       "    </tr>\n",
       "    <tr>\n",
       "      <th>1</th>\n",
       "      <td>2018-01-02</td>\n",
       "      <td>2</td>\n",
       "      <td>-5</td>\n",
       "      <td>阴~多云</td>\n",
       "      <td>东北风</td>\n",
       "      <td>1-2级</td>\n",
       "      <td>49</td>\n",
       "      <td>优</td>\n",
       "      <td>1</td>\n",
       "    </tr>\n",
       "    <tr>\n",
       "      <th>2</th>\n",
       "      <td>2018-01-03</td>\n",
       "      <td>2</td>\n",
       "      <td>-5</td>\n",
       "      <td>多云</td>\n",
       "      <td>北风</td>\n",
       "      <td>1-2级</td>\n",
       "      <td>28</td>\n",
       "      <td>优</td>\n",
       "      <td>1</td>\n",
       "    </tr>\n",
       "    <tr>\n",
       "      <th>3</th>\n",
       "      <td>2018-01-04</td>\n",
       "      <td>0</td>\n",
       "      <td>-8</td>\n",
       "      <td>阴</td>\n",
       "      <td>东北风</td>\n",
       "      <td>1-2级</td>\n",
       "      <td>28</td>\n",
       "      <td>优</td>\n",
       "      <td>1</td>\n",
       "    </tr>\n",
       "    <tr>\n",
       "      <th>4</th>\n",
       "      <td>2018-01-05</td>\n",
       "      <td>3</td>\n",
       "      <td>-6</td>\n",
       "      <td>多云~晴</td>\n",
       "      <td>西北风</td>\n",
       "      <td>1-2级</td>\n",
       "      <td>50</td>\n",
       "      <td>优</td>\n",
       "      <td>1</td>\n",
       "    </tr>\n",
       "  </tbody>\n",
       "</table>\n",
       "</div>"
      ],
      "text/plain": [
       "          ymd  bWendu  yWendu tianqi fengxiang fengli  aqi aqiInfo  aqiLevel\n",
       "0  2018-01-01       3      -6   晴~多云       东北风   1-2级   59       良         2\n",
       "1  2018-01-02       2      -5   阴~多云       东北风   1-2级   49       优         1\n",
       "2  2018-01-03       2      -5     多云        北风   1-2级   28       优         1\n",
       "3  2018-01-04       0      -8      阴       东北风   1-2级   28       优         1\n",
       "4  2018-01-05       3      -6   多云~晴       西北风   1-2级   50       优         1"
      ]
     },
     "execution_count": 63,
     "metadata": {},
     "output_type": "execute_result"
    }
   ],
   "source": [
    "tData.head()"
   ]
  },
  {
   "cell_type": "markdown",
   "metadata": {},
   "source": [
    "实例：计算温差"
   ]
  },
  {
   "cell_type": "code",
   "execution_count": 66,
   "metadata": {},
   "outputs": [],
   "source": [
    "# 注意：tData['bWendu']其实是一个Series，后面的减法返回的是Series\n",
    "tData.loc[:,'wencha'] = tData['bWendu']-tData['yWendu']"
   ]
  },
  {
   "cell_type": "code",
   "execution_count": 67,
   "metadata": {},
   "outputs": [
    {
     "data": {
      "text/html": [
       "<div>\n",
       "<style scoped>\n",
       "    .dataframe tbody tr th:only-of-type {\n",
       "        vertical-align: middle;\n",
       "    }\n",
       "\n",
       "    .dataframe tbody tr th {\n",
       "        vertical-align: top;\n",
       "    }\n",
       "\n",
       "    .dataframe thead th {\n",
       "        text-align: right;\n",
       "    }\n",
       "</style>\n",
       "<table border=\"1\" class=\"dataframe\">\n",
       "  <thead>\n",
       "    <tr style=\"text-align: right;\">\n",
       "      <th></th>\n",
       "      <th>ymd</th>\n",
       "      <th>bWendu</th>\n",
       "      <th>yWendu</th>\n",
       "      <th>tianqi</th>\n",
       "      <th>fengxiang</th>\n",
       "      <th>fengli</th>\n",
       "      <th>aqi</th>\n",
       "      <th>aqiInfo</th>\n",
       "      <th>aqiLevel</th>\n",
       "      <th>wencha</th>\n",
       "    </tr>\n",
       "  </thead>\n",
       "  <tbody>\n",
       "    <tr>\n",
       "      <th>0</th>\n",
       "      <td>2018-01-01</td>\n",
       "      <td>3</td>\n",
       "      <td>-6</td>\n",
       "      <td>晴~多云</td>\n",
       "      <td>东北风</td>\n",
       "      <td>1-2级</td>\n",
       "      <td>59</td>\n",
       "      <td>良</td>\n",
       "      <td>2</td>\n",
       "      <td>9</td>\n",
       "    </tr>\n",
       "    <tr>\n",
       "      <th>1</th>\n",
       "      <td>2018-01-02</td>\n",
       "      <td>2</td>\n",
       "      <td>-5</td>\n",
       "      <td>阴~多云</td>\n",
       "      <td>东北风</td>\n",
       "      <td>1-2级</td>\n",
       "      <td>49</td>\n",
       "      <td>优</td>\n",
       "      <td>1</td>\n",
       "      <td>7</td>\n",
       "    </tr>\n",
       "    <tr>\n",
       "      <th>2</th>\n",
       "      <td>2018-01-03</td>\n",
       "      <td>2</td>\n",
       "      <td>-5</td>\n",
       "      <td>多云</td>\n",
       "      <td>北风</td>\n",
       "      <td>1-2级</td>\n",
       "      <td>28</td>\n",
       "      <td>优</td>\n",
       "      <td>1</td>\n",
       "      <td>7</td>\n",
       "    </tr>\n",
       "    <tr>\n",
       "      <th>3</th>\n",
       "      <td>2018-01-04</td>\n",
       "      <td>0</td>\n",
       "      <td>-8</td>\n",
       "      <td>阴</td>\n",
       "      <td>东北风</td>\n",
       "      <td>1-2级</td>\n",
       "      <td>28</td>\n",
       "      <td>优</td>\n",
       "      <td>1</td>\n",
       "      <td>8</td>\n",
       "    </tr>\n",
       "    <tr>\n",
       "      <th>4</th>\n",
       "      <td>2018-01-05</td>\n",
       "      <td>3</td>\n",
       "      <td>-6</td>\n",
       "      <td>多云~晴</td>\n",
       "      <td>西北风</td>\n",
       "      <td>1-2级</td>\n",
       "      <td>50</td>\n",
       "      <td>优</td>\n",
       "      <td>1</td>\n",
       "      <td>9</td>\n",
       "    </tr>\n",
       "  </tbody>\n",
       "</table>\n",
       "</div>"
      ],
      "text/plain": [
       "          ymd  bWendu  yWendu tianqi fengxiang fengli  aqi aqiInfo  aqiLevel  \\\n",
       "0  2018-01-01       3      -6   晴~多云       东北风   1-2级   59       良         2   \n",
       "1  2018-01-02       2      -5   阴~多云       东北风   1-2级   49       优         1   \n",
       "2  2018-01-03       2      -5     多云        北风   1-2级   28       优         1   \n",
       "3  2018-01-04       0      -8      阴       东北风   1-2级   28       优         1   \n",
       "4  2018-01-05       3      -6   多云~晴       西北风   1-2级   50       优         1   \n",
       "\n",
       "   wencha  \n",
       "0       9  \n",
       "1       7  \n",
       "2       7  \n",
       "3       8  \n",
       "4       9  "
      ]
     },
     "execution_count": 67,
     "metadata": {},
     "output_type": "execute_result"
    }
   ],
   "source": [
    "tData.head()"
   ]
  },
  {
   "cell_type": "markdown",
   "metadata": {},
   "source": [
    "### df.apply方法\n",
    "apply a function along an axis of DataFrame\n",
    "Objects passed to the function are Series objects whose index either the DataFrame's index(axis = 0) or the DataFrame's columns(axis=1)"
   ]
  },
  {
   "cell_type": "markdown",
   "metadata": {},
   "source": [
    "实例：添加一列温度类型\n",
    "* 1、如果最高温度大于33度就是高温\n",
    "* 2、低于-10就是低温\n",
    "* 3、否则就是常温"
   ]
  },
  {
   "cell_type": "code",
   "execution_count": 68,
   "metadata": {},
   "outputs": [],
   "source": [
    "def get_wendu_type(x):\n",
    "    if x['bWendu']>33:\n",
    "        return '高温'\n",
    "    if x['yWendu']<-10:\n",
    "        return '低温'\n",
    "    return '常温'"
   ]
  },
  {
   "cell_type": "code",
   "execution_count": 69,
   "metadata": {},
   "outputs": [],
   "source": [
    "# 注意：需要设置axis=1,这是series的index是columns\n",
    "tData.loc[:,'wendu_type'] = tData.apply(get_wendu_type,axis=1)"
   ]
  },
  {
   "cell_type": "code",
   "execution_count": 70,
   "metadata": {},
   "outputs": [
    {
     "data": {
      "text/html": [
       "<div>\n",
       "<style scoped>\n",
       "    .dataframe tbody tr th:only-of-type {\n",
       "        vertical-align: middle;\n",
       "    }\n",
       "\n",
       "    .dataframe tbody tr th {\n",
       "        vertical-align: top;\n",
       "    }\n",
       "\n",
       "    .dataframe thead th {\n",
       "        text-align: right;\n",
       "    }\n",
       "</style>\n",
       "<table border=\"1\" class=\"dataframe\">\n",
       "  <thead>\n",
       "    <tr style=\"text-align: right;\">\n",
       "      <th></th>\n",
       "      <th>ymd</th>\n",
       "      <th>bWendu</th>\n",
       "      <th>yWendu</th>\n",
       "      <th>tianqi</th>\n",
       "      <th>fengxiang</th>\n",
       "      <th>fengli</th>\n",
       "      <th>aqi</th>\n",
       "      <th>aqiInfo</th>\n",
       "      <th>aqiLevel</th>\n",
       "      <th>wencha</th>\n",
       "      <th>wendu_type</th>\n",
       "    </tr>\n",
       "  </thead>\n",
       "  <tbody>\n",
       "    <tr>\n",
       "      <th>0</th>\n",
       "      <td>2018-01-01</td>\n",
       "      <td>3</td>\n",
       "      <td>-6</td>\n",
       "      <td>晴~多云</td>\n",
       "      <td>东北风</td>\n",
       "      <td>1-2级</td>\n",
       "      <td>59</td>\n",
       "      <td>良</td>\n",
       "      <td>2</td>\n",
       "      <td>9</td>\n",
       "      <td>常温</td>\n",
       "    </tr>\n",
       "    <tr>\n",
       "      <th>1</th>\n",
       "      <td>2018-01-02</td>\n",
       "      <td>2</td>\n",
       "      <td>-5</td>\n",
       "      <td>阴~多云</td>\n",
       "      <td>东北风</td>\n",
       "      <td>1-2级</td>\n",
       "      <td>49</td>\n",
       "      <td>优</td>\n",
       "      <td>1</td>\n",
       "      <td>7</td>\n",
       "      <td>常温</td>\n",
       "    </tr>\n",
       "    <tr>\n",
       "      <th>2</th>\n",
       "      <td>2018-01-03</td>\n",
       "      <td>2</td>\n",
       "      <td>-5</td>\n",
       "      <td>多云</td>\n",
       "      <td>北风</td>\n",
       "      <td>1-2级</td>\n",
       "      <td>28</td>\n",
       "      <td>优</td>\n",
       "      <td>1</td>\n",
       "      <td>7</td>\n",
       "      <td>常温</td>\n",
       "    </tr>\n",
       "    <tr>\n",
       "      <th>3</th>\n",
       "      <td>2018-01-04</td>\n",
       "      <td>0</td>\n",
       "      <td>-8</td>\n",
       "      <td>阴</td>\n",
       "      <td>东北风</td>\n",
       "      <td>1-2级</td>\n",
       "      <td>28</td>\n",
       "      <td>优</td>\n",
       "      <td>1</td>\n",
       "      <td>8</td>\n",
       "      <td>常温</td>\n",
       "    </tr>\n",
       "    <tr>\n",
       "      <th>4</th>\n",
       "      <td>2018-01-05</td>\n",
       "      <td>3</td>\n",
       "      <td>-6</td>\n",
       "      <td>多云~晴</td>\n",
       "      <td>西北风</td>\n",
       "      <td>1-2级</td>\n",
       "      <td>50</td>\n",
       "      <td>优</td>\n",
       "      <td>1</td>\n",
       "      <td>9</td>\n",
       "      <td>常温</td>\n",
       "    </tr>\n",
       "  </tbody>\n",
       "</table>\n",
       "</div>"
      ],
      "text/plain": [
       "          ymd  bWendu  yWendu tianqi fengxiang fengli  aqi aqiInfo  aqiLevel  \\\n",
       "0  2018-01-01       3      -6   晴~多云       东北风   1-2级   59       良         2   \n",
       "1  2018-01-02       2      -5   阴~多云       东北风   1-2级   49       优         1   \n",
       "2  2018-01-03       2      -5     多云        北风   1-2级   28       优         1   \n",
       "3  2018-01-04       0      -8      阴       东北风   1-2级   28       优         1   \n",
       "4  2018-01-05       3      -6   多云~晴       西北风   1-2级   50       优         1   \n",
       "\n",
       "   wencha wendu_type  \n",
       "0       9         常温  \n",
       "1       7         常温  \n",
       "2       7         常温  \n",
       "3       8         常温  \n",
       "4       9         常温  "
      ]
     },
     "execution_count": 70,
     "metadata": {},
     "output_type": "execute_result"
    }
   ],
   "source": [
    "tData.head()"
   ]
  },
  {
   "cell_type": "code",
   "execution_count": 72,
   "metadata": {},
   "outputs": [
    {
     "data": {
      "text/plain": [
       "常温    328\n",
       "高温     29\n",
       "低温      8\n",
       "Name: wendu_type, dtype: int64"
      ]
     },
     "execution_count": 72,
     "metadata": {},
     "output_type": "execute_result"
    }
   ],
   "source": [
    "# 查看温度类型的计数\n",
    "tData['wendu_type'].value_counts()"
   ]
  },
  {
   "cell_type": "markdown",
   "metadata": {},
   "source": [
    "### df.assign方法\n",
    "Assign new columns to DataFrame\n",
    "Return a new object with all original columns in addition to new ones"
   ]
  },
  {
   "cell_type": "markdown",
   "metadata": {},
   "source": [
    "实例：将温度从摄氏度变成华氏度 "
   ]
  },
  {
   "cell_type": "code",
   "execution_count": 79,
   "metadata": {},
   "outputs": [
    {
     "data": {
      "text/html": [
       "<div>\n",
       "<style scoped>\n",
       "    .dataframe tbody tr th:only-of-type {\n",
       "        vertical-align: middle;\n",
       "    }\n",
       "\n",
       "    .dataframe tbody tr th {\n",
       "        vertical-align: top;\n",
       "    }\n",
       "\n",
       "    .dataframe thead th {\n",
       "        text-align: right;\n",
       "    }\n",
       "</style>\n",
       "<table border=\"1\" class=\"dataframe\">\n",
       "  <thead>\n",
       "    <tr style=\"text-align: right;\">\n",
       "      <th></th>\n",
       "      <th>ymd</th>\n",
       "      <th>bWendu</th>\n",
       "      <th>yWendu</th>\n",
       "      <th>tianqi</th>\n",
       "      <th>fengxiang</th>\n",
       "      <th>fengli</th>\n",
       "      <th>aqi</th>\n",
       "      <th>aqiInfo</th>\n",
       "      <th>aqiLevel</th>\n",
       "      <th>wencha</th>\n",
       "      <th>wendu_type</th>\n",
       "      <th>wencha_type</th>\n",
       "      <th>yWendu_huashi</th>\n",
       "      <th>bWendu_huashi</th>\n",
       "    </tr>\n",
       "  </thead>\n",
       "  <tbody>\n",
       "    <tr>\n",
       "      <th>0</th>\n",
       "      <td>2018-01-01</td>\n",
       "      <td>3</td>\n",
       "      <td>-6</td>\n",
       "      <td>晴~多云</td>\n",
       "      <td>东北风</td>\n",
       "      <td>1-2级</td>\n",
       "      <td>59</td>\n",
       "      <td>良</td>\n",
       "      <td>2</td>\n",
       "      <td>9</td>\n",
       "      <td>常温</td>\n",
       "      <td>温差小</td>\n",
       "      <td>21.2</td>\n",
       "      <td>37.4</td>\n",
       "    </tr>\n",
       "    <tr>\n",
       "      <th>1</th>\n",
       "      <td>2018-01-02</td>\n",
       "      <td>2</td>\n",
       "      <td>-5</td>\n",
       "      <td>阴~多云</td>\n",
       "      <td>东北风</td>\n",
       "      <td>1-2级</td>\n",
       "      <td>49</td>\n",
       "      <td>优</td>\n",
       "      <td>1</td>\n",
       "      <td>7</td>\n",
       "      <td>常温</td>\n",
       "      <td>温差小</td>\n",
       "      <td>23.0</td>\n",
       "      <td>35.6</td>\n",
       "    </tr>\n",
       "    <tr>\n",
       "      <th>2</th>\n",
       "      <td>2018-01-03</td>\n",
       "      <td>2</td>\n",
       "      <td>-5</td>\n",
       "      <td>多云</td>\n",
       "      <td>北风</td>\n",
       "      <td>1-2级</td>\n",
       "      <td>28</td>\n",
       "      <td>优</td>\n",
       "      <td>1</td>\n",
       "      <td>7</td>\n",
       "      <td>常温</td>\n",
       "      <td>温差小</td>\n",
       "      <td>23.0</td>\n",
       "      <td>35.6</td>\n",
       "    </tr>\n",
       "    <tr>\n",
       "      <th>3</th>\n",
       "      <td>2018-01-04</td>\n",
       "      <td>0</td>\n",
       "      <td>-8</td>\n",
       "      <td>阴</td>\n",
       "      <td>东北风</td>\n",
       "      <td>1-2级</td>\n",
       "      <td>28</td>\n",
       "      <td>优</td>\n",
       "      <td>1</td>\n",
       "      <td>8</td>\n",
       "      <td>常温</td>\n",
       "      <td>温差小</td>\n",
       "      <td>17.6</td>\n",
       "      <td>32.0</td>\n",
       "    </tr>\n",
       "    <tr>\n",
       "      <th>4</th>\n",
       "      <td>2018-01-05</td>\n",
       "      <td>3</td>\n",
       "      <td>-6</td>\n",
       "      <td>多云~晴</td>\n",
       "      <td>西北风</td>\n",
       "      <td>1-2级</td>\n",
       "      <td>50</td>\n",
       "      <td>优</td>\n",
       "      <td>1</td>\n",
       "      <td>9</td>\n",
       "      <td>常温</td>\n",
       "      <td>温差小</td>\n",
       "      <td>21.2</td>\n",
       "      <td>37.4</td>\n",
       "    </tr>\n",
       "    <tr>\n",
       "      <th>...</th>\n",
       "      <td>...</td>\n",
       "      <td>...</td>\n",
       "      <td>...</td>\n",
       "      <td>...</td>\n",
       "      <td>...</td>\n",
       "      <td>...</td>\n",
       "      <td>...</td>\n",
       "      <td>...</td>\n",
       "      <td>...</td>\n",
       "      <td>...</td>\n",
       "      <td>...</td>\n",
       "      <td>...</td>\n",
       "      <td>...</td>\n",
       "      <td>...</td>\n",
       "    </tr>\n",
       "    <tr>\n",
       "      <th>360</th>\n",
       "      <td>2018-12-27</td>\n",
       "      <td>-5</td>\n",
       "      <td>-12</td>\n",
       "      <td>多云~晴</td>\n",
       "      <td>西北风</td>\n",
       "      <td>3级</td>\n",
       "      <td>48</td>\n",
       "      <td>优</td>\n",
       "      <td>1</td>\n",
       "      <td>7</td>\n",
       "      <td>低温</td>\n",
       "      <td>温差小</td>\n",
       "      <td>10.4</td>\n",
       "      <td>23.0</td>\n",
       "    </tr>\n",
       "    <tr>\n",
       "      <th>361</th>\n",
       "      <td>2018-12-28</td>\n",
       "      <td>-3</td>\n",
       "      <td>-11</td>\n",
       "      <td>晴</td>\n",
       "      <td>西北风</td>\n",
       "      <td>3级</td>\n",
       "      <td>40</td>\n",
       "      <td>优</td>\n",
       "      <td>1</td>\n",
       "      <td>8</td>\n",
       "      <td>低温</td>\n",
       "      <td>温差小</td>\n",
       "      <td>12.2</td>\n",
       "      <td>26.6</td>\n",
       "    </tr>\n",
       "    <tr>\n",
       "      <th>362</th>\n",
       "      <td>2018-12-29</td>\n",
       "      <td>-3</td>\n",
       "      <td>-12</td>\n",
       "      <td>晴</td>\n",
       "      <td>西北风</td>\n",
       "      <td>2级</td>\n",
       "      <td>29</td>\n",
       "      <td>优</td>\n",
       "      <td>1</td>\n",
       "      <td>9</td>\n",
       "      <td>低温</td>\n",
       "      <td>温差小</td>\n",
       "      <td>10.4</td>\n",
       "      <td>26.6</td>\n",
       "    </tr>\n",
       "    <tr>\n",
       "      <th>363</th>\n",
       "      <td>2018-12-30</td>\n",
       "      <td>-2</td>\n",
       "      <td>-11</td>\n",
       "      <td>晴~多云</td>\n",
       "      <td>东北风</td>\n",
       "      <td>1级</td>\n",
       "      <td>31</td>\n",
       "      <td>优</td>\n",
       "      <td>1</td>\n",
       "      <td>9</td>\n",
       "      <td>低温</td>\n",
       "      <td>温差小</td>\n",
       "      <td>12.2</td>\n",
       "      <td>28.4</td>\n",
       "    </tr>\n",
       "    <tr>\n",
       "      <th>364</th>\n",
       "      <td>2018-12-31</td>\n",
       "      <td>-2</td>\n",
       "      <td>-10</td>\n",
       "      <td>多云</td>\n",
       "      <td>东北风</td>\n",
       "      <td>1级</td>\n",
       "      <td>56</td>\n",
       "      <td>良</td>\n",
       "      <td>2</td>\n",
       "      <td>8</td>\n",
       "      <td>常温</td>\n",
       "      <td>温差小</td>\n",
       "      <td>14.0</td>\n",
       "      <td>28.4</td>\n",
       "    </tr>\n",
       "  </tbody>\n",
       "</table>\n",
       "<p>365 rows × 14 columns</p>\n",
       "</div>"
      ],
      "text/plain": [
       "            ymd  bWendu  yWendu tianqi fengxiang fengli  aqi aqiInfo  \\\n",
       "0    2018-01-01       3      -6   晴~多云       东北风   1-2级   59       良   \n",
       "1    2018-01-02       2      -5   阴~多云       东北风   1-2级   49       优   \n",
       "2    2018-01-03       2      -5     多云        北风   1-2级   28       优   \n",
       "3    2018-01-04       0      -8      阴       东北风   1-2级   28       优   \n",
       "4    2018-01-05       3      -6   多云~晴       西北风   1-2级   50       优   \n",
       "..          ...     ...     ...    ...       ...    ...  ...     ...   \n",
       "360  2018-12-27      -5     -12   多云~晴       西北风     3级   48       优   \n",
       "361  2018-12-28      -3     -11      晴       西北风     3级   40       优   \n",
       "362  2018-12-29      -3     -12      晴       西北风     2级   29       优   \n",
       "363  2018-12-30      -2     -11   晴~多云       东北风     1级   31       优   \n",
       "364  2018-12-31      -2     -10     多云       东北风     1级   56       良   \n",
       "\n",
       "     aqiLevel  wencha wendu_type wencha_type  yWendu_huashi  bWendu_huashi  \n",
       "0           2       9         常温         温差小           21.2           37.4  \n",
       "1           1       7         常温         温差小           23.0           35.6  \n",
       "2           1       7         常温         温差小           23.0           35.6  \n",
       "3           1       8         常温         温差小           17.6           32.0  \n",
       "4           1       9         常温         温差小           21.2           37.4  \n",
       "..        ...     ...        ...         ...            ...            ...  \n",
       "360         1       7         低温         温差小           10.4           23.0  \n",
       "361         1       8         低温         温差小           12.2           26.6  \n",
       "362         1       9         低温         温差小           10.4           26.6  \n",
       "363         1       9         低温         温差小           12.2           28.4  \n",
       "364         2       8         常温         温差小           14.0           28.4  \n",
       "\n",
       "[365 rows x 14 columns]"
      ]
     },
     "execution_count": 79,
     "metadata": {},
     "output_type": "execute_result"
    }
   ],
   "source": [
    "# 可以同时添加多个新的列,返回一个新的DataFrame\n",
    "tData.assign(\n",
    "    # 摄氏度转换为华氏度\n",
    "    yWendu_huashi = lambda x: x['yWendu'] * 9/5 +32,\n",
    "    bWendu_huashi = lambda x: x['bWendu'] * 9/5 +32\n",
    ")"
   ]
  },
  {
   "cell_type": "markdown",
   "metadata": {},
   "source": [
    "### 按条件选择分组分别赋值\n",
    "按条件先选择数据，然后对这部分数据赋值新列"
   ]
  },
  {
   "cell_type": "markdown",
   "metadata": {},
   "source": [
    "实例：高低温差大于10度，则认为温差大"
   ]
  },
  {
   "cell_type": "code",
   "execution_count": 75,
   "metadata": {},
   "outputs": [],
   "source": [
    "# 先创建空列（第一种创建新列的方法）\n",
    "tData['wencha_type'] = ''"
   ]
  },
  {
   "cell_type": "code",
   "execution_count": 76,
   "metadata": {},
   "outputs": [],
   "source": [
    "tData.loc[tData['bWendu']-tData['yWendu']>10,'wencha_type'] = '温差大'\n",
    "tData.loc[tData['bWendu']-tData['yWendu']<=10,'wencha_type'] = '温差小'"
   ]
  },
  {
   "cell_type": "code",
   "execution_count": 77,
   "metadata": {},
   "outputs": [
    {
     "data": {
      "text/plain": [
       "温差小    187\n",
       "温差大    178\n",
       "Name: wencha_type, dtype: int64"
      ]
     },
     "execution_count": 77,
     "metadata": {},
     "output_type": "execute_result"
    }
   ],
   "source": [
    "tData['wencha_type'].value_counts()"
   ]
  },
  {
   "cell_type": "code",
   "execution_count": 78,
   "metadata": {},
   "outputs": [
    {
     "data": {
      "text/html": [
       "<div>\n",
       "<style scoped>\n",
       "    .dataframe tbody tr th:only-of-type {\n",
       "        vertical-align: middle;\n",
       "    }\n",
       "\n",
       "    .dataframe tbody tr th {\n",
       "        vertical-align: top;\n",
       "    }\n",
       "\n",
       "    .dataframe thead th {\n",
       "        text-align: right;\n",
       "    }\n",
       "</style>\n",
       "<table border=\"1\" class=\"dataframe\">\n",
       "  <thead>\n",
       "    <tr style=\"text-align: right;\">\n",
       "      <th></th>\n",
       "      <th>ymd</th>\n",
       "      <th>bWendu</th>\n",
       "      <th>yWendu</th>\n",
       "      <th>tianqi</th>\n",
       "      <th>fengxiang</th>\n",
       "      <th>fengli</th>\n",
       "      <th>aqi</th>\n",
       "      <th>aqiInfo</th>\n",
       "      <th>aqiLevel</th>\n",
       "      <th>wencha</th>\n",
       "      <th>wendu_type</th>\n",
       "      <th>wencha_type</th>\n",
       "    </tr>\n",
       "  </thead>\n",
       "  <tbody>\n",
       "    <tr>\n",
       "      <th>0</th>\n",
       "      <td>2018-01-01</td>\n",
       "      <td>3</td>\n",
       "      <td>-6</td>\n",
       "      <td>晴~多云</td>\n",
       "      <td>东北风</td>\n",
       "      <td>1-2级</td>\n",
       "      <td>59</td>\n",
       "      <td>良</td>\n",
       "      <td>2</td>\n",
       "      <td>9</td>\n",
       "      <td>常温</td>\n",
       "      <td>温差小</td>\n",
       "    </tr>\n",
       "    <tr>\n",
       "      <th>1</th>\n",
       "      <td>2018-01-02</td>\n",
       "      <td>2</td>\n",
       "      <td>-5</td>\n",
       "      <td>阴~多云</td>\n",
       "      <td>东北风</td>\n",
       "      <td>1-2级</td>\n",
       "      <td>49</td>\n",
       "      <td>优</td>\n",
       "      <td>1</td>\n",
       "      <td>7</td>\n",
       "      <td>常温</td>\n",
       "      <td>温差小</td>\n",
       "    </tr>\n",
       "    <tr>\n",
       "      <th>2</th>\n",
       "      <td>2018-01-03</td>\n",
       "      <td>2</td>\n",
       "      <td>-5</td>\n",
       "      <td>多云</td>\n",
       "      <td>北风</td>\n",
       "      <td>1-2级</td>\n",
       "      <td>28</td>\n",
       "      <td>优</td>\n",
       "      <td>1</td>\n",
       "      <td>7</td>\n",
       "      <td>常温</td>\n",
       "      <td>温差小</td>\n",
       "    </tr>\n",
       "    <tr>\n",
       "      <th>3</th>\n",
       "      <td>2018-01-04</td>\n",
       "      <td>0</td>\n",
       "      <td>-8</td>\n",
       "      <td>阴</td>\n",
       "      <td>东北风</td>\n",
       "      <td>1-2级</td>\n",
       "      <td>28</td>\n",
       "      <td>优</td>\n",
       "      <td>1</td>\n",
       "      <td>8</td>\n",
       "      <td>常温</td>\n",
       "      <td>温差小</td>\n",
       "    </tr>\n",
       "    <tr>\n",
       "      <th>4</th>\n",
       "      <td>2018-01-05</td>\n",
       "      <td>3</td>\n",
       "      <td>-6</td>\n",
       "      <td>多云~晴</td>\n",
       "      <td>西北风</td>\n",
       "      <td>1-2级</td>\n",
       "      <td>50</td>\n",
       "      <td>优</td>\n",
       "      <td>1</td>\n",
       "      <td>9</td>\n",
       "      <td>常温</td>\n",
       "      <td>温差小</td>\n",
       "    </tr>\n",
       "  </tbody>\n",
       "</table>\n",
       "</div>"
      ],
      "text/plain": [
       "          ymd  bWendu  yWendu tianqi fengxiang fengli  aqi aqiInfo  aqiLevel  \\\n",
       "0  2018-01-01       3      -6   晴~多云       东北风   1-2级   59       良         2   \n",
       "1  2018-01-02       2      -5   阴~多云       东北风   1-2级   49       优         1   \n",
       "2  2018-01-03       2      -5     多云        北风   1-2级   28       优         1   \n",
       "3  2018-01-04       0      -8      阴       东北风   1-2级   28       优         1   \n",
       "4  2018-01-05       3      -6   多云~晴       西北风   1-2级   50       优         1   \n",
       "\n",
       "   wencha wendu_type wencha_type  \n",
       "0       9         常温         温差小  \n",
       "1       7         常温         温差小  \n",
       "2       7         常温         温差小  \n",
       "3       8         常温         温差小  \n",
       "4       9         常温         温差小  "
      ]
     },
     "execution_count": 78,
     "metadata": {},
     "output_type": "execute_result"
    }
   ],
   "source": [
    "tData.head()"
   ]
  }
 ],
 "metadata": {
  "kernelspec": {
   "display_name": "Python 3",
   "language": "python",
   "name": "python3"
  },
  "language_info": {
   "codemirror_mode": {
    "name": "ipython",
    "version": 3
   },
   "file_extension": ".py",
   "mimetype": "text/x-python",
   "name": "python",
   "nbconvert_exporter": "python",
   "pygments_lexer": "ipython3",
   "version": "3.8.2"
  },
  "toc": {
   "base_numbering": 1,
   "nav_menu": {},
   "number_sections": true,
   "sideBar": true,
   "skip_h1_title": false,
   "title_cell": "Table of Contents",
   "title_sidebar": "Contents",
   "toc_cell": false,
   "toc_position": {
    "height": "calc(100% - 180px)",
    "left": "10px",
    "top": "150px",
    "width": "361.188px"
   },
   "toc_section_display": true,
   "toc_window_display": true
  }
 },
 "nbformat": 4,
 "nbformat_minor": 4
}
